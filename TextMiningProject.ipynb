{
 "cells": [
  {
   "cell_type": "markdown",
   "id": "hpHquuNOVseV",
   "metadata": {
    "id": "hpHquuNOVseV"
   },
   "source": [
    "# Sentiment Analysis and Topic Modeling on Tweets about Online Education during COVID-19"
   ]
  },
  {
   "cell_type": "markdown",
   "id": "yE9NDdwaVsee",
   "metadata": {
    "id": "yE9NDdwaVsee"
   },
   "source": [
    "## Importing Libraries"
   ]
  },
  {
   "cell_type": "code",
   "execution_count": 4,
   "id": "cnkV3tbHVw-e",
   "metadata": {
    "colab": {
     "base_uri": "https://localhost:8080/"
    },
    "executionInfo": {
     "elapsed": 3297,
     "status": "ok",
     "timestamp": 1637116034914,
     "user": {
      "displayName": "Rosie Nguyen",
      "photoUrl": "https://lh3.googleusercontent.com/a-/AOh14Gg8VPQvlV-dIeIfmn9DbfD6olRxnSRwLXXUWlaA=s64",
      "userId": "15013244958255868355"
     },
     "user_tz": 480
    },
    "id": "cnkV3tbHVw-e",
    "outputId": "fdda528a-946c-4bef-d748-dff250b90dca"
   },
   "outputs": [
    {
     "name": "stdout",
     "output_type": "stream",
     "text": [
      "Collecting plotly\n",
      "  Downloading plotly-5.4.0-py2.py3-none-any.whl (25.3 MB)\n",
      "\u001b[K     |████████████████████████████████| 25.3 MB 7.6 MB/s eta 0:00:01\n",
      "\u001b[?25hCollecting tenacity>=6.2.0\n",
      "  Downloading tenacity-8.0.1-py3-none-any.whl (24 kB)\n",
      "Requirement already satisfied: six in /Users/ab/opt/anaconda3/lib/python3.8/site-packages (from plotly) (1.15.0)\n",
      "Installing collected packages: tenacity, plotly\n",
      "Successfully installed plotly-5.4.0 tenacity-8.0.1\n"
     ]
    }
   ],
   "source": [
    "#pip install vaderSentiment\n",
    "!pip install plotly"
   ]
  },
  {
   "cell_type": "code",
   "execution_count": 5,
   "id": "H8-ABQCpVseg",
   "metadata": {
    "colab": {
     "base_uri": "https://localhost:8080/"
    },
    "executionInfo": {
     "elapsed": 35,
     "status": "ok",
     "timestamp": 1637116034916,
     "user": {
      "displayName": "Rosie Nguyen",
      "photoUrl": "https://lh3.googleusercontent.com/a-/AOh14Gg8VPQvlV-dIeIfmn9DbfD6olRxnSRwLXXUWlaA=s64",
      "userId": "15013244958255868355"
     },
     "user_tz": 480
    },
    "id": "H8-ABQCpVseg",
    "outputId": "9416605c-d5ad-4ced-e5fd-4343ea51afea"
   },
   "outputs": [
    {
     "name": "stderr",
     "output_type": "stream",
     "text": [
      "[nltk_data] Downloading package stopwords to /Users/ab/nltk_data...\n",
      "[nltk_data]   Package stopwords is already up-to-date!\n",
      "[nltk_data] Downloading package punkt to /Users/ab/nltk_data...\n",
      "[nltk_data]   Package punkt is already up-to-date!\n",
      "[nltk_data] Downloading package wordnet to /Users/ab/nltk_data...\n",
      "[nltk_data]   Package wordnet is already up-to-date!\n"
     ]
    }
   ],
   "source": [
    "import pandas as pd\n",
    "import numpy as np\n",
    "import nltk\n",
    "nltk.download('stopwords')\n",
    "nltk.download('punkt')\n",
    "nltk.download('wordnet')\n",
    "from textblob import TextBlob\n",
    "from vaderSentiment.vaderSentiment import SentimentIntensityAnalyzer\n",
    "from nltk.corpus import stopwords\n",
    "from nltk.stem import WordNetLemmatizer\n",
    "import string\n",
    "import re\n",
    "import gensim\n",
    "import matplotlib.pyplot as plt\n",
    "import seaborn as sns\n",
    "import plotly"
   ]
  },
  {
   "cell_type": "markdown",
   "id": "LDAr22ClVsei",
   "metadata": {
    "id": "LDAr22ClVsei"
   },
   "source": [
    "## Loading the Dataset"
   ]
  },
  {
   "cell_type": "code",
   "execution_count": 6,
   "id": "2s0HUIfaVsej",
   "metadata": {
    "executionInfo": {
     "elapsed": 254,
     "status": "ok",
     "timestamp": 1637116035157,
     "user": {
      "displayName": "Rosie Nguyen",
      "photoUrl": "https://lh3.googleusercontent.com/a-/AOh14Gg8VPQvlV-dIeIfmn9DbfD6olRxnSRwLXXUWlaA=s64",
      "userId": "15013244958255868355"
     },
     "user_tz": 480
    },
    "id": "2s0HUIfaVsej"
   },
   "outputs": [],
   "source": [
    "f=pd.read_csv(\"onlinelearning_cleaned_data_latest.csv\")\n"
   ]
  },
  {
   "cell_type": "code",
   "execution_count": 7,
   "id": "zNzgCQRrVsej",
   "metadata": {
    "colab": {
     "base_uri": "https://localhost:8080/"
    },
    "executionInfo": {
     "elapsed": 32,
     "status": "ok",
     "timestamp": 1637116035159,
     "user": {
      "displayName": "Rosie Nguyen",
      "photoUrl": "https://lh3.googleusercontent.com/a-/AOh14Gg8VPQvlV-dIeIfmn9DbfD6olRxnSRwLXXUWlaA=s64",
      "userId": "15013244958255868355"
     },
     "user_tz": 480
    },
    "id": "zNzgCQRrVsej",
    "outputId": "037374bb-be6c-440a-8e7a-446efd78b9ba"
   },
   "outputs": [
    {
     "data": {
      "text/plain": [
       "Index(['Unnamed: 0', 'ID', 'Date', 'Tweet'], dtype='object')"
      ]
     },
     "execution_count": 7,
     "metadata": {},
     "output_type": "execute_result"
    }
   ],
   "source": [
    "f.columns\n"
   ]
  },
  {
   "cell_type": "code",
   "execution_count": 8,
   "id": "v4JE9n1dVsem",
   "metadata": {
    "executionInfo": {
     "elapsed": 10,
     "status": "ok",
     "timestamp": 1637116035160,
     "user": {
      "displayName": "Rosie Nguyen",
      "photoUrl": "https://lh3.googleusercontent.com/a-/AOh14Gg8VPQvlV-dIeIfmn9DbfD6olRxnSRwLXXUWlaA=s64",
      "userId": "15013244958255868355"
     },
     "user_tz": 480
    },
    "id": "v4JE9n1dVsem"
   },
   "outputs": [],
   "source": [
    "copy=f.copy()"
   ]
  },
  {
   "cell_type": "code",
   "execution_count": 9,
   "id": "wamnjxZ1Vseo",
   "metadata": {
    "executionInfo": {
     "elapsed": 407,
     "status": "ok",
     "timestamp": 1637116035559,
     "user": {
      "displayName": "Rosie Nguyen",
      "photoUrl": "https://lh3.googleusercontent.com/a-/AOh14Gg8VPQvlV-dIeIfmn9DbfD6olRxnSRwLXXUWlaA=s64",
      "userId": "15013244958255868355"
     },
     "user_tz": 480
    },
    "id": "wamnjxZ1Vseo"
   },
   "outputs": [],
   "source": [
    "Time=[]\n",
    "for index,date in enumerate(copy.Date):\n",
    "    collect=(str(date)).split()\n",
    "    copy.at[index,'Date']=collect[0]\n",
    "    Time.append(collect[1])"
   ]
  },
  {
   "cell_type": "code",
   "execution_count": 10,
   "id": "E7U2lbyxVsep",
   "metadata": {
    "executionInfo": {
     "elapsed": 53,
     "status": "ok",
     "timestamp": 1637116035561,
     "user": {
      "displayName": "Rosie Nguyen",
      "photoUrl": "https://lh3.googleusercontent.com/a-/AOh14Gg8VPQvlV-dIeIfmn9DbfD6olRxnSRwLXXUWlaA=s64",
      "userId": "15013244958255868355"
     },
     "user_tz": 480
    },
    "id": "E7U2lbyxVsep"
   },
   "outputs": [],
   "source": [
    "copy[\"Time\"]=Time"
   ]
  },
  {
   "cell_type": "code",
   "execution_count": 11,
   "id": "XBEsMiaPVser",
   "metadata": {
    "colab": {
     "base_uri": "https://localhost:8080/",
     "height": 363
    },
    "executionInfo": {
     "elapsed": 48,
     "status": "ok",
     "timestamp": 1637116035562,
     "user": {
      "displayName": "Rosie Nguyen",
      "photoUrl": "https://lh3.googleusercontent.com/a-/AOh14Gg8VPQvlV-dIeIfmn9DbfD6olRxnSRwLXXUWlaA=s64",
      "userId": "15013244958255868355"
     },
     "user_tz": 480
    },
    "id": "XBEsMiaPVser",
    "outputId": "7fb953da-d532-4556-ec29-2de2ffa40c17"
   },
   "outputs": [
    {
     "data": {
      "text/html": [
       "<div>\n",
       "<style scoped>\n",
       "    .dataframe tbody tr th:only-of-type {\n",
       "        vertical-align: middle;\n",
       "    }\n",
       "\n",
       "    .dataframe tbody tr th {\n",
       "        vertical-align: top;\n",
       "    }\n",
       "\n",
       "    .dataframe thead th {\n",
       "        text-align: right;\n",
       "    }\n",
       "</style>\n",
       "<table border=\"1\" class=\"dataframe\">\n",
       "  <thead>\n",
       "    <tr style=\"text-align: right;\">\n",
       "      <th></th>\n",
       "      <th>Unnamed: 0</th>\n",
       "      <th>ID</th>\n",
       "      <th>Date</th>\n",
       "      <th>Tweet</th>\n",
       "      <th>Time</th>\n",
       "    </tr>\n",
       "  </thead>\n",
       "  <tbody>\n",
       "    <tr>\n",
       "      <th>0</th>\n",
       "      <td>2</td>\n",
       "      <td>1454594698614562821</td>\n",
       "      <td>2021-10-30</td>\n",
       "      <td>All Green STARS on ! Every lesson, every unit!...</td>\n",
       "      <td>23:42:55+00:00</td>\n",
       "    </tr>\n",
       "    <tr>\n",
       "      <th>1</th>\n",
       "      <td>41</td>\n",
       "      <td>1454485143037546497</td>\n",
       "      <td>2021-10-30</td>\n",
       "      <td>each week and then pass over to the children T...</td>\n",
       "      <td>16:27:35+00:00</td>\n",
       "    </tr>\n",
       "    <tr>\n",
       "      <th>2</th>\n",
       "      <td>42</td>\n",
       "      <td>1454481924928389123</td>\n",
       "      <td>2021-10-30</td>\n",
       "      <td>Why did you consider a profession of teacher?</td>\n",
       "      <td>16:14:48+00:00</td>\n",
       "    </tr>\n",
       "    <tr>\n",
       "      <th>3</th>\n",
       "      <td>86</td>\n",
       "      <td>1454430596613099520</td>\n",
       "      <td>2021-10-30</td>\n",
       "      <td>Read from ALL sources Remember, the test will ...</td>\n",
       "      <td>12:50:50+00:00</td>\n",
       "    </tr>\n",
       "    <tr>\n",
       "      <th>4</th>\n",
       "      <td>89</td>\n",
       "      <td>1454429071580930048</td>\n",
       "      <td>2021-10-30</td>\n",
       "      <td>Answer ALL questions There is no negative mark...</td>\n",
       "      <td>12:44:47+00:00</td>\n",
       "    </tr>\n",
       "    <tr>\n",
       "      <th>5</th>\n",
       "      <td>120</td>\n",
       "      <td>1454387602862264344</td>\n",
       "      <td>2021-10-30</td>\n",
       "      <td>The ability to converse in another language is...</td>\n",
       "      <td>10:00:00+00:00</td>\n",
       "    </tr>\n",
       "    <tr>\n",
       "      <th>6</th>\n",
       "      <td>144</td>\n",
       "      <td>1454326056769363977</td>\n",
       "      <td>2021-10-30</td>\n",
       "      <td>Lots of students in Discord this semester. The...</td>\n",
       "      <td>05:55:26+00:00</td>\n",
       "    </tr>\n",
       "    <tr>\n",
       "      <th>7</th>\n",
       "      <td>146</td>\n",
       "      <td>1454320389388046339</td>\n",
       "      <td>2021-10-30</td>\n",
       "      <td>What are your current learning practices?</td>\n",
       "      <td>05:32:55+00:00</td>\n",
       "    </tr>\n",
       "    <tr>\n",
       "      <th>8</th>\n",
       "      <td>153</td>\n",
       "      <td>1454297018755686405</td>\n",
       "      <td>2021-10-30</td>\n",
       "      <td>there is a museum dedicated to failure. Displa...</td>\n",
       "      <td>04:00:03+00:00</td>\n",
       "    </tr>\n",
       "    <tr>\n",
       "      <th>9</th>\n",
       "      <td>154</td>\n",
       "      <td>1454289410258718727</td>\n",
       "      <td>2021-10-30</td>\n",
       "      <td>So, ofcourse the internet connection dies in l...</td>\n",
       "      <td>03:29:49+00:00</td>\n",
       "    </tr>\n",
       "  </tbody>\n",
       "</table>\n",
       "</div>"
      ],
      "text/plain": [
       "   Unnamed: 0                   ID        Date  \\\n",
       "0           2  1454594698614562821  2021-10-30   \n",
       "1          41  1454485143037546497  2021-10-30   \n",
       "2          42  1454481924928389123  2021-10-30   \n",
       "3          86  1454430596613099520  2021-10-30   \n",
       "4          89  1454429071580930048  2021-10-30   \n",
       "5         120  1454387602862264344  2021-10-30   \n",
       "6         144  1454326056769363977  2021-10-30   \n",
       "7         146  1454320389388046339  2021-10-30   \n",
       "8         153  1454297018755686405  2021-10-30   \n",
       "9         154  1454289410258718727  2021-10-30   \n",
       "\n",
       "                                               Tweet            Time  \n",
       "0  All Green STARS on ! Every lesson, every unit!...  23:42:55+00:00  \n",
       "1  each week and then pass over to the children T...  16:27:35+00:00  \n",
       "2      Why did you consider a profession of teacher?  16:14:48+00:00  \n",
       "3  Read from ALL sources Remember, the test will ...  12:50:50+00:00  \n",
       "4  Answer ALL questions There is no negative mark...  12:44:47+00:00  \n",
       "5  The ability to converse in another language is...  10:00:00+00:00  \n",
       "6  Lots of students in Discord this semester. The...  05:55:26+00:00  \n",
       "7          What are your current learning practices?  05:32:55+00:00  \n",
       "8  there is a museum dedicated to failure. Displa...  04:00:03+00:00  \n",
       "9  So, ofcourse the internet connection dies in l...  03:29:49+00:00  "
      ]
     },
     "execution_count": 11,
     "metadata": {},
     "output_type": "execute_result"
    }
   ],
   "source": [
    "copy.head(10)"
   ]
  },
  {
   "cell_type": "code",
   "execution_count": 12,
   "id": "YbI0Xp-iVset",
   "metadata": {
    "executionInfo": {
     "elapsed": 40,
     "status": "ok",
     "timestamp": 1637116035564,
     "user": {
      "displayName": "Rosie Nguyen",
      "photoUrl": "https://lh3.googleusercontent.com/a-/AOh14Gg8VPQvlV-dIeIfmn9DbfD6olRxnSRwLXXUWlaA=s64",
      "userId": "15013244958255868355"
     },
     "user_tz": 480
    },
    "id": "YbI0Xp-iVset"
   },
   "outputs": [],
   "source": [
    "#Kept all tweets, assuming that the same tweet at same time may be written by 2 different prople\n",
    "#copy = copy.drop_duplicates(subset=['Date','Tweet'], keep=\"first\")"
   ]
  },
  {
   "cell_type": "code",
   "execution_count": 13,
   "id": "chS9nQG7Vseu",
   "metadata": {
    "colab": {
     "base_uri": "https://localhost:8080/"
    },
    "executionInfo": {
     "elapsed": 38,
     "status": "ok",
     "timestamp": 1637116035565,
     "user": {
      "displayName": "Rosie Nguyen",
      "photoUrl": "https://lh3.googleusercontent.com/a-/AOh14Gg8VPQvlV-dIeIfmn9DbfD6olRxnSRwLXXUWlaA=s64",
      "userId": "15013244958255868355"
     },
     "user_tz": 480
    },
    "id": "chS9nQG7Vseu",
    "outputId": "8f09ad31-0649-401a-b4d9-7f6685dd867c"
   },
   "outputs": [
    {
     "data": {
      "text/plain": [
       "28091"
      ]
     },
     "execution_count": 13,
     "metadata": {},
     "output_type": "execute_result"
    }
   ],
   "source": [
    "len(copy)"
   ]
  },
  {
   "cell_type": "code",
   "execution_count": 14,
   "id": "SlWKSPXGVseu",
   "metadata": {
    "colab": {
     "base_uri": "https://localhost:8080/"
    },
    "executionInfo": {
     "elapsed": 25,
     "status": "ok",
     "timestamp": 1637116035568,
     "user": {
      "displayName": "Rosie Nguyen",
      "photoUrl": "https://lh3.googleusercontent.com/a-/AOh14Gg8VPQvlV-dIeIfmn9DbfD6olRxnSRwLXXUWlaA=s64",
      "userId": "15013244958255868355"
     },
     "user_tz": 480
    },
    "id": "SlWKSPXGVseu",
    "outputId": "42f651de-d832-4d11-c518-67e3f280ac86"
   },
   "outputs": [
    {
     "data": {
      "text/plain": [
       "28091"
      ]
     },
     "execution_count": 14,
     "metadata": {},
     "output_type": "execute_result"
    }
   ],
   "source": [
    "len(f)"
   ]
  },
  {
   "cell_type": "code",
   "execution_count": 15,
   "id": "kKWWwyOcVsev",
   "metadata": {
    "executionInfo": {
     "elapsed": 23,
     "status": "ok",
     "timestamp": 1637116035569,
     "user": {
      "displayName": "Rosie Nguyen",
      "photoUrl": "https://lh3.googleusercontent.com/a-/AOh14Gg8VPQvlV-dIeIfmn9DbfD6olRxnSRwLXXUWlaA=s64",
      "userId": "15013244958255868355"
     },
     "user_tz": 480
    },
    "id": "kKWWwyOcVsev"
   },
   "outputs": [],
   "source": [
    "stopwords=stop_words=stopwords.words(\"english\")"
   ]
  },
  {
   "cell_type": "code",
   "execution_count": 16,
   "id": "uyH6rDBbVsev",
   "metadata": {
    "colab": {
     "base_uri": "https://localhost:8080/"
    },
    "executionInfo": {
     "elapsed": 195,
     "status": "ok",
     "timestamp": 1637116035742,
     "user": {
      "displayName": "Rosie Nguyen",
      "photoUrl": "https://lh3.googleusercontent.com/a-/AOh14Gg8VPQvlV-dIeIfmn9DbfD6olRxnSRwLXXUWlaA=s64",
      "userId": "15013244958255868355"
     },
     "user_tz": 480
    },
    "id": "uyH6rDBbVsev",
    "outputId": "cf567289-08b0-4397-94a7-1bce14cfe743"
   },
   "outputs": [
    {
     "data": {
      "text/plain": [
       "0        All Green STARS on ! Every lesson, every unit!...\n",
       "1        each week and then pass over to the children T...\n",
       "2            Why did you consider a profession of teacher?\n",
       "3        Read from ALL sources Remember, the test will ...\n",
       "4        Answer ALL questions There is no negative mark...\n",
       "                               ...                        \n",
       "28086    Into the world of remote online Learning due t...\n",
       "28087    Many teachers in Ontario are using asynchronou...\n",
       "28088    Closed b/c of COVID-19? Check out FB group \"In...\n",
       "28089            So agree with you. It’s all about journey\n",
       "28090    Calsouthern let's you start your courses anyti...\n",
       "Name: Tweet, Length: 28091, dtype: object"
      ]
     },
     "execution_count": 16,
     "metadata": {},
     "output_type": "execute_result"
    }
   ],
   "source": [
    "copy.Tweet"
   ]
  },
  {
   "cell_type": "code",
   "execution_count": 17,
   "id": "scoIurgwVsew",
   "metadata": {
    "executionInfo": {
     "elapsed": 7,
     "status": "ok",
     "timestamp": 1637116035743,
     "user": {
      "displayName": "Rosie Nguyen",
      "photoUrl": "https://lh3.googleusercontent.com/a-/AOh14Gg8VPQvlV-dIeIfmn9DbfD6olRxnSRwLXXUWlaA=s64",
      "userId": "15013244958255868355"
     },
     "user_tz": 480
    },
    "id": "scoIurgwVsew"
   },
   "outputs": [],
   "source": [
    "copy=copy.dropna()"
   ]
  },
  {
   "cell_type": "markdown",
   "id": "QVxKdprYVsew",
   "metadata": {
    "id": "QVxKdprYVsew"
   },
   "source": [
    "## PreProcessing Data"
   ]
  },
  {
   "cell_type": "markdown",
   "id": "mtyTueulVsew",
   "metadata": {
    "id": "mtyTueulVsew"
   },
   "source": [
    "In any machine learning task, cleaning the data is as important as model building if not more. And when it comes to unstructured data like text, this process is even more important.\n",
    "\n",
    "To this end , I will perform some cleansing activities as pre-processing steps beforehand model building:\n",
    "\n",
    "- Lowercase text\n",
    "- Remove stop words and punctuations and most common words\n",
    "- Once our data does not contain any unwanted characters, we will perform Lemmatization to reduce inflected words to their root words.\n"
   ]
  },
  {
   "cell_type": "code",
   "execution_count": 18,
   "id": "uHo3igtHVsex",
   "metadata": {
    "executionInfo": {
     "elapsed": 12222,
     "status": "ok",
     "timestamp": 1637116047958,
     "user": {
      "displayName": "Rosie Nguyen",
      "photoUrl": "https://lh3.googleusercontent.com/a-/AOh14Gg8VPQvlV-dIeIfmn9DbfD6olRxnSRwLXXUWlaA=s64",
      "userId": "15013244958255868355"
     },
     "user_tz": 480
    },
    "id": "uHo3igtHVsex"
   },
   "outputs": [],
   "source": [
    "## English Stopwords \n",
    "stop = nltk.corpus.stopwords.words('english')\n",
    "\n",
    "## Most_common words\n",
    "most_common_words = ['online','student','school','learn','education']\n",
    "\n",
    "\n",
    "## Preprocessing the data\n",
    "def clean(doc):\n",
    "    lowercase=[i.lower() for i in nltk.word_tokenize(doc) if i.lower() not in stop and i.isalpha()]\n",
    "    wordnet_lemmatizer = WordNetLemmatizer()\n",
    "    normalized=[wordnet_lemmatizer.lemmatize(i) for i in lowercase]\n",
    "    tokens = [i.lower() for i in normalized if i.lower() not in most_common_words]\n",
    "    return tokens\n",
    "\n",
    "## Adding cleaned data in the dataframe               \n",
    "clean_tweet = []\n",
    "\n",
    "for doc in copy['Tweet']:\n",
    "    clean_tweet.append(clean(str(doc))) \n",
    "\n",
    "copy['clean_tweet'] = clean_tweet"
   ]
  },
  {
   "cell_type": "code",
   "execution_count": 19,
   "id": "CDE0s_tUVsex",
   "metadata": {
    "colab": {
     "base_uri": "https://localhost:8080/",
     "height": 0
    },
    "executionInfo": {
     "elapsed": 14,
     "status": "ok",
     "timestamp": 1637116047961,
     "user": {
      "displayName": "Rosie Nguyen",
      "photoUrl": "https://lh3.googleusercontent.com/a-/AOh14Gg8VPQvlV-dIeIfmn9DbfD6olRxnSRwLXXUWlaA=s64",
      "userId": "15013244958255868355"
     },
     "user_tz": 480
    },
    "id": "CDE0s_tUVsex",
    "outputId": "ca31e8af-7c90-408e-d251-4f9ba7106590"
   },
   "outputs": [
    {
     "data": {
      "text/html": [
       "<div>\n",
       "<style scoped>\n",
       "    .dataframe tbody tr th:only-of-type {\n",
       "        vertical-align: middle;\n",
       "    }\n",
       "\n",
       "    .dataframe tbody tr th {\n",
       "        vertical-align: top;\n",
       "    }\n",
       "\n",
       "    .dataframe thead th {\n",
       "        text-align: right;\n",
       "    }\n",
       "</style>\n",
       "<table border=\"1\" class=\"dataframe\">\n",
       "  <thead>\n",
       "    <tr style=\"text-align: right;\">\n",
       "      <th></th>\n",
       "      <th>Unnamed: 0</th>\n",
       "      <th>ID</th>\n",
       "      <th>Date</th>\n",
       "      <th>Tweet</th>\n",
       "      <th>Time</th>\n",
       "      <th>clean_tweet</th>\n",
       "    </tr>\n",
       "  </thead>\n",
       "  <tbody>\n",
       "    <tr>\n",
       "      <th>0</th>\n",
       "      <td>2</td>\n",
       "      <td>1454594698614562821</td>\n",
       "      <td>2021-10-30</td>\n",
       "      <td>All Green STARS on ! Every lesson, every unit!...</td>\n",
       "      <td>23:42:55+00:00</td>\n",
       "      <td>[green, star, every, lesson, every, unit, going]</td>\n",
       "    </tr>\n",
       "    <tr>\n",
       "      <th>1</th>\n",
       "      <td>41</td>\n",
       "      <td>1454485143037546497</td>\n",
       "      <td>2021-10-30</td>\n",
       "      <td>each week and then pass over to the children T...</td>\n",
       "      <td>16:27:35+00:00</td>\n",
       "      <td>[week, pas, child, take, turn, talk, reading, ...</td>\n",
       "    </tr>\n",
       "    <tr>\n",
       "      <th>2</th>\n",
       "      <td>42</td>\n",
       "      <td>1454481924928389123</td>\n",
       "      <td>2021-10-30</td>\n",
       "      <td>Why did you consider a profession of teacher?</td>\n",
       "      <td>16:14:48+00:00</td>\n",
       "      <td>[consider, profession, teacher]</td>\n",
       "    </tr>\n",
       "    <tr>\n",
       "      <th>3</th>\n",
       "      <td>86</td>\n",
       "      <td>1454430596613099520</td>\n",
       "      <td>2021-10-30</td>\n",
       "      <td>Read from ALL sources Remember, the test will ...</td>\n",
       "      <td>12:50:50+00:00</td>\n",
       "      <td>[read, source, remember, test, text, various, ...</td>\n",
       "    </tr>\n",
       "    <tr>\n",
       "      <th>4</th>\n",
       "      <td>89</td>\n",
       "      <td>1454429071580930048</td>\n",
       "      <td>2021-10-30</td>\n",
       "      <td>Answer ALL questions There is no negative mark...</td>\n",
       "      <td>12:44:47+00:00</td>\n",
       "      <td>[answer, question, negative, marking, make, su...</td>\n",
       "    </tr>\n",
       "  </tbody>\n",
       "</table>\n",
       "</div>"
      ],
      "text/plain": [
       "   Unnamed: 0                   ID        Date  \\\n",
       "0           2  1454594698614562821  2021-10-30   \n",
       "1          41  1454485143037546497  2021-10-30   \n",
       "2          42  1454481924928389123  2021-10-30   \n",
       "3          86  1454430596613099520  2021-10-30   \n",
       "4          89  1454429071580930048  2021-10-30   \n",
       "\n",
       "                                               Tweet            Time  \\\n",
       "0  All Green STARS on ! Every lesson, every unit!...  23:42:55+00:00   \n",
       "1  each week and then pass over to the children T...  16:27:35+00:00   \n",
       "2      Why did you consider a profession of teacher?  16:14:48+00:00   \n",
       "3  Read from ALL sources Remember, the test will ...  12:50:50+00:00   \n",
       "4  Answer ALL questions There is no negative mark...  12:44:47+00:00   \n",
       "\n",
       "                                         clean_tweet  \n",
       "0   [green, star, every, lesson, every, unit, going]  \n",
       "1  [week, pas, child, take, turn, talk, reading, ...  \n",
       "2                    [consider, profession, teacher]  \n",
       "3  [read, source, remember, test, text, various, ...  \n",
       "4  [answer, question, negative, marking, make, su...  "
      ]
     },
     "execution_count": 19,
     "metadata": {},
     "output_type": "execute_result"
    }
   ],
   "source": [
    "copy.head()"
   ]
  },
  {
   "cell_type": "code",
   "execution_count": 20,
   "id": "HXY2dsUeVsex",
   "metadata": {
    "colab": {
     "base_uri": "https://localhost:8080/"
    },
    "executionInfo": {
     "elapsed": 12,
     "status": "ok",
     "timestamp": 1637116047962,
     "user": {
      "displayName": "Rosie Nguyen",
      "photoUrl": "https://lh3.googleusercontent.com/a-/AOh14Gg8VPQvlV-dIeIfmn9DbfD6olRxnSRwLXXUWlaA=s64",
      "userId": "15013244958255868355"
     },
     "user_tz": 480
    },
    "id": "HXY2dsUeVsex",
    "outputId": "3f1d23c0-98ba-4d3d-d252-c7ad2c3a50ea"
   },
   "outputs": [
    {
     "data": {
      "text/plain": [
       "0"
      ]
     },
     "execution_count": 20,
     "metadata": {},
     "output_type": "execute_result"
    }
   ],
   "source": [
    "copy.isna().sum().sum()"
   ]
  },
  {
   "cell_type": "code",
   "execution_count": 21,
   "id": "QXA8_Z0iVsey",
   "metadata": {
    "executionInfo": {
     "elapsed": 9,
     "status": "ok",
     "timestamp": 1637116047964,
     "user": {
      "displayName": "Rosie Nguyen",
      "photoUrl": "https://lh3.googleusercontent.com/a-/AOh14Gg8VPQvlV-dIeIfmn9DbfD6olRxnSRwLXXUWlaA=s64",
      "userId": "15013244958255868355"
     },
     "user_tz": 480
    },
    "id": "QXA8_Z0iVsey"
   },
   "outputs": [],
   "source": [
    "copy=copy.dropna()"
   ]
  },
  {
   "cell_type": "code",
   "execution_count": 22,
   "id": "PUU4IzGxVsey",
   "metadata": {
    "colab": {
     "base_uri": "https://localhost:8080/"
    },
    "executionInfo": {
     "elapsed": 16,
     "status": "ok",
     "timestamp": 1637116048173,
     "user": {
      "displayName": "Rosie Nguyen",
      "photoUrl": "https://lh3.googleusercontent.com/a-/AOh14Gg8VPQvlV-dIeIfmn9DbfD6olRxnSRwLXXUWlaA=s64",
      "userId": "15013244958255868355"
     },
     "user_tz": 480
    },
    "id": "PUU4IzGxVsey",
    "outputId": "80c9fed3-463e-4626-8da7-2bf3713e8cae"
   },
   "outputs": [
    {
     "data": {
      "text/plain": [
       "0"
      ]
     },
     "execution_count": 22,
     "metadata": {},
     "output_type": "execute_result"
    }
   ],
   "source": [
    "copy.isna().sum().sum()"
   ]
  },
  {
   "cell_type": "code",
   "execution_count": 23,
   "id": "WDA0AB6GVsez",
   "metadata": {
    "executionInfo": {
     "elapsed": 11,
     "status": "ok",
     "timestamp": 1637116048174,
     "user": {
      "displayName": "Rosie Nguyen",
      "photoUrl": "https://lh3.googleusercontent.com/a-/AOh14Gg8VPQvlV-dIeIfmn9DbfD6olRxnSRwLXXUWlaA=s64",
      "userId": "15013244958255868355"
     },
     "user_tz": 480
    },
    "id": "WDA0AB6GVsez"
   },
   "outputs": [],
   "source": [
    "#contain_values=copy[copy[\"Tweet\"].str.contains(\"8 days and 8 hours\")]\n",
    "#len(contain_values)"
   ]
  },
  {
   "cell_type": "markdown",
   "id": "SfSa4e41Vsez",
   "metadata": {
    "id": "SfSa4e41Vsez"
   },
   "source": [
    "## Exploratory Data Analysis"
   ]
  },
  {
   "cell_type": "markdown",
   "id": "FNKeUXf0Vse0",
   "metadata": {
    "id": "FNKeUXf0Vse0"
   },
   "source": [
    "### Tweets length"
   ]
  },
  {
   "cell_type": "code",
   "execution_count": 24,
   "id": "t32fG9r9Vse0",
   "metadata": {
    "colab": {
     "base_uri": "https://localhost:8080/",
     "height": 0
    },
    "executionInfo": {
     "elapsed": 626,
     "status": "ok",
     "timestamp": 1637116048790,
     "user": {
      "displayName": "Rosie Nguyen",
      "photoUrl": "https://lh3.googleusercontent.com/a-/AOh14Gg8VPQvlV-dIeIfmn9DbfD6olRxnSRwLXXUWlaA=s64",
      "userId": "15013244958255868355"
     },
     "user_tz": 480
    },
    "id": "t32fG9r9Vse0",
    "outputId": "f03193a1-da1f-4488-979b-c2fe35ced774"
   },
   "outputs": [
    {
     "name": "stderr",
     "output_type": "stream",
     "text": [
      "/Users/ab/opt/anaconda3/lib/python3.8/site-packages/seaborn/_decorators.py:36: FutureWarning: Pass the following variable as a keyword arg: x. From version 0.12, the only valid positional argument will be `data`, and passing other arguments without an explicit keyword will result in an error or misinterpretation.\n",
      "  warnings.warn(\n"
     ]
    },
    {
     "data": {
      "image/png": "[encoded data removed]",
      "text/plain": [
       "<Figure size 1080x576 with 1 Axes>"
      ]
     },
     "metadata": {
      "needs_background": "light"
     },
     "output_type": "display_data"
    }
   ],
   "source": [
    "tweet_lengths = [len(tokens) for tokens in copy['clean_tweet']]\n",
    "plt.figure(figsize = (15,8))\n",
    "sns.countplot(tweet_lengths)\n",
    "plt.title('Tweet Length Distribution', fontsize = 18)\n",
    "plt.xlabel('Words per Tweet', fontsize = 12)\n",
    "plt.ylabel('Number of Tweets', fontsize = 12)\n",
    "plt.show()"
   ]
  },
  {
   "cell_type": "markdown",
   "id": "oayqPeyDVse1",
   "metadata": {
    "id": "oayqPeyDVse1"
   },
   "source": [
    "### Wordcloud"
   ]
  },
  {
   "cell_type": "code",
   "execution_count": 25,
   "id": "QRbXY4DEVse2",
   "metadata": {
    "colab": {
     "base_uri": "https://localhost:8080/"
    },
    "executionInfo": {
     "elapsed": 195,
     "status": "ok",
     "timestamp": 1637116048975,
     "user": {
      "displayName": "Rosie Nguyen",
      "photoUrl": "https://lh3.googleusercontent.com/a-/AOh14Gg8VPQvlV-dIeIfmn9DbfD6olRxnSRwLXXUWlaA=s64",
      "userId": "15013244958255868355"
     },
     "user_tz": 480
    },
    "id": "QRbXY4DEVse2",
    "outputId": "2ed9572d-4914-4f69-84f5-08fa8f10bd3d"
   },
   "outputs": [
    {
     "data": {
      "text/plain": [
       "[('learning', 4637),\n",
       " ('class', 3008),\n",
       " ('amp', 2859),\n",
       " ('teacher', 2341),\n",
       " ('time', 2317),\n",
       " ('course', 2041),\n",
       " ('day', 1970),\n",
       " ('today', 1784),\n",
       " ('need', 1753),\n",
       " ('u', 1700),\n",
       " ('help', 1688),\n",
       " ('work', 1662),\n",
       " ('get', 1656),\n",
       " ('one', 1624),\n",
       " ('like', 1514),\n",
       " ('kid', 1487),\n",
       " ('thank', 1487),\n",
       " ('teaching', 1485),\n",
       " ('week', 1483),\n",
       " ('new', 1450),\n",
       " ('know', 1377),\n",
       " ('year', 1359),\n",
       " ('make', 1238),\n",
       " ('great', 1187),\n",
       " ('first', 1047),\n",
       " ('way', 1045),\n",
       " ('would', 1040),\n",
       " ('good', 1022),\n",
       " ('video', 1011),\n",
       " ('use', 958),\n",
       " ('please', 945),\n",
       " ('lesson', 941),\n",
       " ('home', 925),\n",
       " ('many', 918),\n",
       " ('thing', 898),\n",
       " ('see', 869),\n",
       " ('much', 869),\n",
       " ('going', 864),\n",
       " ('best', 853),\n",
       " ('want', 816),\n",
       " ('looking', 815),\n",
       " ('well', 814),\n",
       " ('child', 810),\n",
       " ('go', 800),\n",
       " ('take', 786),\n",
       " ('parent', 785),\n",
       " ('support', 781),\n",
       " ('think', 774),\n",
       " ('zoom', 773),\n",
       " ('back', 760)]"
      ]
     },
     "execution_count": 25,
     "metadata": {},
     "output_type": "execute_result"
    }
   ],
   "source": [
    "from nltk.probability import FreqDist\n",
    "\n",
    "#iterate through each tweet, then each token in each tweet, and store in one list\n",
    "flat_words = [item for sublist in copy['clean_tweet'] for item in sublist]\n",
    "\n",
    "word_freq = FreqDist(flat_words)\n",
    "\n",
    "word_freq.most_common(50)"
   ]
  },
  {
   "cell_type": "code",
   "execution_count": 26,
   "id": "yoSDpnyBVse3",
   "metadata": {
    "executionInfo": {
     "elapsed": 192,
     "status": "ok",
     "timestamp": 1637116049164,
     "user": {
      "displayName": "Rosie Nguyen",
      "photoUrl": "https://lh3.googleusercontent.com/a-/AOh14Gg8VPQvlV-dIeIfmn9DbfD6olRxnSRwLXXUWlaA=s64",
      "userId": "15013244958255868355"
     },
     "user_tz": 480
    },
    "id": "yoSDpnyBVse3"
   },
   "outputs": [],
   "source": [
    "#retrieve word and count from FreqDist tuples\n",
    "\n",
    "most_common_count = [x[1] for x in word_freq.most_common(50)]\n",
    "most_common_word = [x[0] for x in word_freq.most_common(50)]\n",
    "\n",
    "#create dictionary mapping of word count\n",
    "top_50_dictionary = dict(zip(most_common_word, most_common_count))"
   ]
  },
  {
   "cell_type": "code",
   "execution_count": 27,
   "id": "qr4HGc4JVse3",
   "metadata": {
    "colab": {
     "base_uri": "https://localhost:8080/",
     "height": 0
    },
    "executionInfo": {
     "elapsed": 998,
     "status": "ok",
     "timestamp": 1637116050157,
     "user": {
      "displayName": "Rosie Nguyen",
      "photoUrl": "https://lh3.googleusercontent.com/a-/AOh14Gg8VPQvlV-dIeIfmn9DbfD6olRxnSRwLXXUWlaA=s64",
      "userId": "15013244958255868355"
     },
     "user_tz": 480
    },
    "id": "qr4HGc4JVse3",
    "outputId": "c4988b8a-49d9-47d6-f4f0-374fddd4c1e9"
   },
   "outputs": [
    {
     "ename": "ModuleNotFoundError",
     "evalue": "No module named 'wordcloud'",
     "output_type": "error",
     "traceback": [
      "\u001b[0;31m---------------------------------------------------------------------------\u001b[0m",
      "\u001b[0;31mModuleNotFoundError\u001b[0m                       Traceback (most recent call last)",
      "\u001b[0;32m<ipython-input-27-0a40d1009659>\u001b[0m in \u001b[0;36m<module>\u001b[0;34m\u001b[0m\n\u001b[0;32m----> 1\u001b[0;31m \u001b[0;32mfrom\u001b[0m \u001b[0mwordcloud\u001b[0m \u001b[0;32mimport\u001b[0m \u001b[0mWordCloud\u001b[0m\u001b[0;34m\u001b[0m\u001b[0;34m\u001b[0m\u001b[0m\n\u001b[0m\u001b[1;32m      2\u001b[0m \u001b[0;34m\u001b[0m\u001b[0m\n\u001b[1;32m      3\u001b[0m \u001b[0;31m#Create Word Cloud of top 100 words\u001b[0m\u001b[0;34m\u001b[0m\u001b[0;34m\u001b[0m\u001b[0;34m\u001b[0m\u001b[0m\n\u001b[1;32m      4\u001b[0m \u001b[0;31m# round_mask = np.array(Image.open( \"rhombus.png\"))\u001b[0m\u001b[0;34m\u001b[0m\u001b[0;34m\u001b[0m\u001b[0;34m\u001b[0m\u001b[0m\n\u001b[1;32m      5\u001b[0m \u001b[0mwordcloud\u001b[0m \u001b[0;34m=\u001b[0m \u001b[0mWordCloud\u001b[0m\u001b[0;34m(\u001b[0m\u001b[0mcolormap\u001b[0m \u001b[0;34m=\u001b[0m \u001b[0;34m'RdYlGn'\u001b[0m\u001b[0;34m,\u001b[0m \u001b[0mbackground_color\u001b[0m \u001b[0;34m=\u001b[0m \u001b[0;34m'white'\u001b[0m\u001b[0;34m,\u001b[0m \u001b[0mmask\u001b[0m \u001b[0;34m=\u001b[0m \u001b[0;32mNone\u001b[0m\u001b[0;34m)\u001b[0m\u001b[0;31m\\\u001b[0m\u001b[0;34m\u001b[0m\u001b[0;34m\u001b[0m\u001b[0m\n",
      "\u001b[0;31mModuleNotFoundError\u001b[0m: No module named 'wordcloud'"
     ]
    }
   ],
   "source": [
    "from wordcloud import WordCloud\n",
    "\n",
    "#Create Word Cloud of top 100 words\n",
    "# round_mask = np.array(Image.open( \"rhombus.png\"))\n",
    "wordcloud = WordCloud(colormap = 'RdYlGn', background_color = 'white', mask = None)\\\n",
    ".generate_from_frequencies(top_50_dictionary)\n",
    "\n",
    "#plot with matplotlib\n",
    "plt.figure(figsize=(14, 9))\n",
    "plt.imshow(wordcloud, interpolation='bilinear')\n",
    "plt.axis(\"off\")\n",
    "plt.tight_layout(pad=0)\n",
    "plt.savefig('top_50_cloud.png')\n",
    "\n",
    "plt.show()"
   ]
  },
  {
   "cell_type": "markdown",
   "id": "vaXPXPtJVse4",
   "metadata": {
    "id": "vaXPXPtJVse4"
   },
   "source": [
    "As depicted in above figure, words like ‘learning’, ‘online’, ‘class’, ‘education’ and ‘schools’, ‘teacher’ were frequently used. Out of these words, ‘learning’, ‘student’, ‘online’ and ‘time’, got the most considerable number of words used. Correspondently, most of the tweets were related to the current online learning strategies and implementation across the globe due to the novel coronavirus.\n"
   ]
  },
  {
   "cell_type": "markdown",
   "id": "mMyuxGe_Vse5",
   "metadata": {
    "id": "mMyuxGe_Vse5"
   },
   "source": [
    "## Textblob Sentiment analysis"
   ]
  },
  {
   "cell_type": "code",
   "execution_count": 28,
   "id": "Rx26eXrNVse6",
   "metadata": {
    "executionInfo": {
     "elapsed": 9139,
     "status": "ok",
     "timestamp": 1637116059272,
     "user": {
      "displayName": "Rosie Nguyen",
      "photoUrl": "https://lh3.googleusercontent.com/a-/AOh14Gg8VPQvlV-dIeIfmn9DbfD6olRxnSRwLXXUWlaA=s64",
      "userId": "15013244958255868355"
     },
     "user_tz": 480
    },
    "id": "Rx26eXrNVse6"
   },
   "outputs": [],
   "source": [
    "TextBlob_Polarity=[]\n",
    "TextBlob_Sentiment=[]\n",
    "for post in copy.Tweet:\n",
    "    blob=TextBlob(post)\n",
    "    polarity=blob.sentiment.polarity\n",
    "    TextBlob_Polarity.append(polarity)\n",
    "    if polarity > 0:\n",
    "        TextBlob_Sentiment.append(\"pos\")\n",
    "    elif polarity < 0:\n",
    "        TextBlob_Sentiment.append(\"neg\")\n",
    "    else:\n",
    "        TextBlob_Sentiment.append(\"neu\")   "
   ]
  },
  {
   "cell_type": "code",
   "execution_count": 29,
   "id": "1fQRy_23Vse7",
   "metadata": {
    "executionInfo": {
     "elapsed": 68,
     "status": "ok",
     "timestamp": 1637116059273,
     "user": {
      "displayName": "Rosie Nguyen",
      "photoUrl": "https://lh3.googleusercontent.com/a-/AOh14Gg8VPQvlV-dIeIfmn9DbfD6olRxnSRwLXXUWlaA=s64",
      "userId": "15013244958255868355"
     },
     "user_tz": 480
    },
    "id": "1fQRy_23Vse7"
   },
   "outputs": [],
   "source": [
    "copy[\"TextBlob_Polarity\"]=TextBlob_Polarity\n",
    "copy[\"TextBlob_Sentiment\"]=TextBlob_Sentiment"
   ]
  },
  {
   "cell_type": "code",
   "execution_count": 30,
   "id": "iRgzz_AFVse8",
   "metadata": {
    "colab": {
     "base_uri": "https://localhost:8080/",
     "height": 0
    },
    "executionInfo": {
     "elapsed": 77,
     "status": "ok",
     "timestamp": 1637116059288,
     "user": {
      "displayName": "Rosie Nguyen",
      "photoUrl": "https://lh3.googleusercontent.com/a-/AOh14Gg8VPQvlV-dIeIfmn9DbfD6olRxnSRwLXXUWlaA=s64",
      "userId": "15013244958255868355"
     },
     "user_tz": 480
    },
    "id": "iRgzz_AFVse8",
    "outputId": "4f2fa888-318d-4d88-a6a4-d7a6201d7274"
   },
   "outputs": [
    {
     "data": {
      "text/html": [
       "<div>\n",
       "<style scoped>\n",
       "    .dataframe tbody tr th:only-of-type {\n",
       "        vertical-align: middle;\n",
       "    }\n",
       "\n",
       "    .dataframe tbody tr th {\n",
       "        vertical-align: top;\n",
       "    }\n",
       "\n",
       "    .dataframe thead th {\n",
       "        text-align: right;\n",
       "    }\n",
       "</style>\n",
       "<table border=\"1\" class=\"dataframe\">\n",
       "  <thead>\n",
       "    <tr style=\"text-align: right;\">\n",
       "      <th></th>\n",
       "      <th>Unnamed: 0</th>\n",
       "      <th>ID</th>\n",
       "      <th>Date</th>\n",
       "      <th>Tweet</th>\n",
       "      <th>Time</th>\n",
       "      <th>clean_tweet</th>\n",
       "      <th>TextBlob_Polarity</th>\n",
       "      <th>TextBlob_Sentiment</th>\n",
       "    </tr>\n",
       "  </thead>\n",
       "  <tbody>\n",
       "    <tr>\n",
       "      <th>0</th>\n",
       "      <td>2</td>\n",
       "      <td>1454594698614562821</td>\n",
       "      <td>2021-10-30</td>\n",
       "      <td>All Green STARS on ! Every lesson, every unit!...</td>\n",
       "      <td>23:42:55+00:00</td>\n",
       "      <td>[green, star, every, lesson, every, unit, going]</td>\n",
       "      <td>-0.390625</td>\n",
       "      <td>neg</td>\n",
       "    </tr>\n",
       "    <tr>\n",
       "      <th>1</th>\n",
       "      <td>41</td>\n",
       "      <td>1454485143037546497</td>\n",
       "      <td>2021-10-30</td>\n",
       "      <td>each week and then pass over to the children T...</td>\n",
       "      <td>16:27:35+00:00</td>\n",
       "      <td>[week, pas, child, take, turn, talk, reading, ...</td>\n",
       "      <td>0.800000</td>\n",
       "      <td>pos</td>\n",
       "    </tr>\n",
       "    <tr>\n",
       "      <th>2</th>\n",
       "      <td>42</td>\n",
       "      <td>1454481924928389123</td>\n",
       "      <td>2021-10-30</td>\n",
       "      <td>Why did you consider a profession of teacher?</td>\n",
       "      <td>16:14:48+00:00</td>\n",
       "      <td>[consider, profession, teacher]</td>\n",
       "      <td>0.000000</td>\n",
       "      <td>neu</td>\n",
       "    </tr>\n",
       "    <tr>\n",
       "      <th>3</th>\n",
       "      <td>86</td>\n",
       "      <td>1454430596613099520</td>\n",
       "      <td>2021-10-30</td>\n",
       "      <td>Read from ALL sources Remember, the test will ...</td>\n",
       "      <td>12:50:50+00:00</td>\n",
       "      <td>[read, source, remember, test, text, various, ...</td>\n",
       "      <td>0.000000</td>\n",
       "      <td>neu</td>\n",
       "    </tr>\n",
       "    <tr>\n",
       "      <th>4</th>\n",
       "      <td>89</td>\n",
       "      <td>1454429071580930048</td>\n",
       "      <td>2021-10-30</td>\n",
       "      <td>Answer ALL questions There is no negative mark...</td>\n",
       "      <td>12:44:47+00:00</td>\n",
       "      <td>[answer, question, negative, marking, make, su...</td>\n",
       "      <td>0.012500</td>\n",
       "      <td>pos</td>\n",
       "    </tr>\n",
       "    <tr>\n",
       "      <th>5</th>\n",
       "      <td>120</td>\n",
       "      <td>1454387602862264344</td>\n",
       "      <td>2021-10-30</td>\n",
       "      <td>The ability to converse in another language is...</td>\n",
       "      <td>10:00:00+00:00</td>\n",
       "      <td>[ability, converse, another, language, one, pr...</td>\n",
       "      <td>0.250000</td>\n",
       "      <td>pos</td>\n",
       "    </tr>\n",
       "    <tr>\n",
       "      <th>6</th>\n",
       "      <td>144</td>\n",
       "      <td>1454326056769363977</td>\n",
       "      <td>2021-10-30</td>\n",
       "      <td>Lots of students in Discord this semester. The...</td>\n",
       "      <td>05:55:26+00:00</td>\n",
       "      <td>[lot, discord, semester, active, channel, gues...</td>\n",
       "      <td>0.183333</td>\n",
       "      <td>pos</td>\n",
       "    </tr>\n",
       "    <tr>\n",
       "      <th>7</th>\n",
       "      <td>146</td>\n",
       "      <td>1454320389388046339</td>\n",
       "      <td>2021-10-30</td>\n",
       "      <td>What are your current learning practices?</td>\n",
       "      <td>05:32:55+00:00</td>\n",
       "      <td>[current, learning, practice]</td>\n",
       "      <td>0.000000</td>\n",
       "      <td>neu</td>\n",
       "    </tr>\n",
       "    <tr>\n",
       "      <th>8</th>\n",
       "      <td>153</td>\n",
       "      <td>1454297018755686405</td>\n",
       "      <td>2021-10-30</td>\n",
       "      <td>there is a museum dedicated to failure. Displa...</td>\n",
       "      <td>04:00:03+00:00</td>\n",
       "      <td>[museum, dedicated, failure, displaying, aroun...</td>\n",
       "      <td>-0.272222</td>\n",
       "      <td>neg</td>\n",
       "    </tr>\n",
       "    <tr>\n",
       "      <th>9</th>\n",
       "      <td>154</td>\n",
       "      <td>1454289410258718727</td>\n",
       "      <td>2021-10-30</td>\n",
       "      <td>So, ofcourse the internet connection dies in l...</td>\n",
       "      <td>03:29:49+00:00</td>\n",
       "      <td>[ofcourse, internet, connection, dy, le, min, ...</td>\n",
       "      <td>-0.166667</td>\n",
       "      <td>neg</td>\n",
       "    </tr>\n",
       "  </tbody>\n",
       "</table>\n",
       "</div>"
      ],
      "text/plain": [
       "   Unnamed: 0                   ID        Date  \\\n",
       "0           2  1454594698614562821  2021-10-30   \n",
       "1          41  1454485143037546497  2021-10-30   \n",
       "2          42  1454481924928389123  2021-10-30   \n",
       "3          86  1454430596613099520  2021-10-30   \n",
       "4          89  1454429071580930048  2021-10-30   \n",
       "5         120  1454387602862264344  2021-10-30   \n",
       "6         144  1454326056769363977  2021-10-30   \n",
       "7         146  1454320389388046339  2021-10-30   \n",
       "8         153  1454297018755686405  2021-10-30   \n",
       "9         154  1454289410258718727  2021-10-30   \n",
       "\n",
       "                                               Tweet            Time  \\\n",
       "0  All Green STARS on ! Every lesson, every unit!...  23:42:55+00:00   \n",
       "1  each week and then pass over to the children T...  16:27:35+00:00   \n",
       "2      Why did you consider a profession of teacher?  16:14:48+00:00   \n",
       "3  Read from ALL sources Remember, the test will ...  12:50:50+00:00   \n",
       "4  Answer ALL questions There is no negative mark...  12:44:47+00:00   \n",
       "5  The ability to converse in another language is...  10:00:00+00:00   \n",
       "6  Lots of students in Discord this semester. The...  05:55:26+00:00   \n",
       "7          What are your current learning practices?  05:32:55+00:00   \n",
       "8  there is a museum dedicated to failure. Displa...  04:00:03+00:00   \n",
       "9  So, ofcourse the internet connection dies in l...  03:29:49+00:00   \n",
       "\n",
       "                                         clean_tweet  TextBlob_Polarity  \\\n",
       "0   [green, star, every, lesson, every, unit, going]          -0.390625   \n",
       "1  [week, pas, child, take, turn, talk, reading, ...           0.800000   \n",
       "2                    [consider, profession, teacher]           0.000000   \n",
       "3  [read, source, remember, test, text, various, ...           0.000000   \n",
       "4  [answer, question, negative, marking, make, su...           0.012500   \n",
       "5  [ability, converse, another, language, one, pr...           0.250000   \n",
       "6  [lot, discord, semester, active, channel, gues...           0.183333   \n",
       "7                      [current, learning, practice]           0.000000   \n",
       "8  [museum, dedicated, failure, displaying, aroun...          -0.272222   \n",
       "9  [ofcourse, internet, connection, dy, le, min, ...          -0.166667   \n",
       "\n",
       "  TextBlob_Sentiment  \n",
       "0                neg  \n",
       "1                pos  \n",
       "2                neu  \n",
       "3                neu  \n",
       "4                pos  \n",
       "5                pos  \n",
       "6                pos  \n",
       "7                neu  \n",
       "8                neg  \n",
       "9                neg  "
      ]
     },
     "execution_count": 30,
     "metadata": {},
     "output_type": "execute_result"
    }
   ],
   "source": [
    "copy.head(10)"
   ]
  },
  {
   "cell_type": "markdown",
   "id": "DEAhuaI2Vse9",
   "metadata": {
    "id": "DEAhuaI2Vse9"
   },
   "source": [
    "## Vader Sentiment analysis (Valence Aware Dictionary and Sentiment Reasoner)\n",
    "\n",
    "VADER (Valence Aware Dictionary and Sentiment Reasoner) is a rule-based sentiment analysis tool that is specifically attuned to sentiments expressed in social media\n",
    "In Vader sentiment analysis, we use a dictionary that maps words to a score from -4 to 4 (-4 is most negative). Even emotions are mapped: e.g. /-: and 0:-3 get mapped to  -1.3 and 1.5. The sentence sentiment is then normalized sum of the sentiments from each word to keep it from -1 to 1. Therefore, in this part, we will use Tweet instead of Clean_tweet\n",
    "The VADER library returns 4 values:\n",
    "- pos: The probability of the sentiment to be positive\n",
    "- neu: The probability of the sentiment to be neutral\n",
    "- neg: The probability of the sentiment to be negative\n",
    "- compound: The normalized compound score which calculates the sum of all lexicon ratings and takes values from -1 to 1"
   ]
  },
  {
   "cell_type": "markdown",
   "id": "truuDU8ZVse-",
   "metadata": {
    "id": "truuDU8ZVse-"
   },
   "source": [
    "### 1. Simple Vader Sentiment Analysis"
   ]
  },
  {
   "cell_type": "markdown",
   "id": "kGa5x1loVse-",
   "metadata": {
    "id": "kGa5x1loVse-"
   },
   "source": [
    "The compound score is computed by summing the valence scores of each word in the lexicon, adjusted according to the rules, and then normalized to be between -1 (most extreme negative) and +1 (most extreme positive). This is the most useful metric if we want a single unidimensional measure of sentiment for a given sentence. It is also useful for us because we want to set standardized thresholds for classifying sentences as either positive, neutral, or negative. Typical threshold values are:\n",
    "- positive sentiment: compound score >= 0.05\n",
    "- neutral sentiment: (compound score > -0.05) and (compound score < 0.05)\n",
    "- negative sentiment: compound score <= -0.05"
   ]
  },
  {
   "cell_type": "code",
   "execution_count": 89,
   "id": "jQ6jZpLAVse-",
   "metadata": {
    "executionInfo": {
     "elapsed": 5523,
     "status": "ok",
     "timestamp": 1637116064746,
     "user": {
      "displayName": "Rosie Nguyen",
      "photoUrl": "https://lh3.googleusercontent.com/a-/AOh14Gg8VPQvlV-dIeIfmn9DbfD6olRxnSRwLXXUWlaA=s64",
      "userId": "15013244958255868355"
     },
     "user_tz": 480
    },
    "id": "jQ6jZpLAVse-"
   },
   "outputs": [],
   "source": [
    "from vaderSentiment.vaderSentiment import SentimentIntensityAnalyzer\n",
    "analyzer=SentimentIntensityAnalyzer()\n",
    "\n",
    "Vader_sentiment= []\n",
    "for post in copy.Tweet:\n",
    "    scores=analyzer.polarity_scores(post)\n",
    "    if scores['compound']>=0.05:\n",
    "        Vader_sentiment.append(\"pos\")\n",
    "    elif scores['compound']<= -0.05:\n",
    "        Vader_sentiment.append(\"neg\")\n",
    "    else: \n",
    "        Vader_sentiment.append(\"neu\")\n",
    "        \n",
    "#CITE: Hutto, C.J. & Gilbert, E.E. (2014). VADER: A Parsimonious Rule-based Model for Sentiment Analysis of Social Media Text. \n",
    "#Eighth International Conference on Weblogs and Social Media (ICWSM-14). Ann Arbor, MI, June 2014."
   ]
  },
  {
   "cell_type": "code",
   "execution_count": 90,
   "id": "xhfRZ8GlVse-",
   "metadata": {
    "colab": {
     "base_uri": "https://localhost:8080/",
     "height": 0
    },
    "executionInfo": {
     "elapsed": 32,
     "status": "ok",
     "timestamp": 1637116064748,
     "user": {
      "displayName": "Rosie Nguyen",
      "photoUrl": "https://lh3.googleusercontent.com/a-/AOh14Gg8VPQvlV-dIeIfmn9DbfD6olRxnSRwLXXUWlaA=s64",
      "userId": "15013244958255868355"
     },
     "user_tz": 480
    },
    "id": "xhfRZ8GlVse-",
    "outputId": "14a59d4a-c5e5-4576-9d86-91f5f70ce81e"
   },
   "outputs": [
    {
     "data": {
      "text/html": [
       "<div>\n",
       "<style scoped>\n",
       "    .dataframe tbody tr th:only-of-type {\n",
       "        vertical-align: middle;\n",
       "    }\n",
       "\n",
       "    .dataframe tbody tr th {\n",
       "        vertical-align: top;\n",
       "    }\n",
       "\n",
       "    .dataframe thead th {\n",
       "        text-align: right;\n",
       "    }\n",
       "</style>\n",
       "<table border=\"1\" class=\"dataframe\">\n",
       "  <thead>\n",
       "    <tr style=\"text-align: right;\">\n",
       "      <th></th>\n",
       "      <th>Unnamed: 0</th>\n",
       "      <th>ID</th>\n",
       "      <th>Date</th>\n",
       "      <th>Tweet</th>\n",
       "      <th>Time</th>\n",
       "      <th>clean_tweet</th>\n",
       "      <th>TextBlob_Polarity</th>\n",
       "      <th>TextBlob_Sentiment</th>\n",
       "      <th>Vader_Sentiment</th>\n",
       "    </tr>\n",
       "  </thead>\n",
       "  <tbody>\n",
       "    <tr>\n",
       "      <th>0</th>\n",
       "      <td>2</td>\n",
       "      <td>1454594698614562821</td>\n",
       "      <td>2021-10-30</td>\n",
       "      <td>All Green STARS on ! Every lesson, every unit!...</td>\n",
       "      <td>23:42:55+00:00</td>\n",
       "      <td>[green, star, every, lesson, every, unit, going]</td>\n",
       "      <td>-0.390625</td>\n",
       "      <td>neg</td>\n",
       "      <td>neu</td>\n",
       "    </tr>\n",
       "    <tr>\n",
       "      <th>1</th>\n",
       "      <td>41</td>\n",
       "      <td>1454485143037546497</td>\n",
       "      <td>2021-10-30</td>\n",
       "      <td>each week and then pass over to the children T...</td>\n",
       "      <td>16:27:35+00:00</td>\n",
       "      <td>[week, pas, child, take, turn, talk, reading, ...</td>\n",
       "      <td>0.800000</td>\n",
       "      <td>pos</td>\n",
       "      <td>pos</td>\n",
       "    </tr>\n",
       "    <tr>\n",
       "      <th>2</th>\n",
       "      <td>42</td>\n",
       "      <td>1454481924928389123</td>\n",
       "      <td>2021-10-30</td>\n",
       "      <td>Why did you consider a profession of teacher?</td>\n",
       "      <td>16:14:48+00:00</td>\n",
       "      <td>[consider, profession, teacher]</td>\n",
       "      <td>0.000000</td>\n",
       "      <td>neu</td>\n",
       "      <td>neu</td>\n",
       "    </tr>\n",
       "    <tr>\n",
       "      <th>3</th>\n",
       "      <td>86</td>\n",
       "      <td>1454430596613099520</td>\n",
       "      <td>2021-10-30</td>\n",
       "      <td>Read from ALL sources Remember, the test will ...</td>\n",
       "      <td>12:50:50+00:00</td>\n",
       "      <td>[read, source, remember, test, text, various, ...</td>\n",
       "      <td>0.000000</td>\n",
       "      <td>neu</td>\n",
       "      <td>pos</td>\n",
       "    </tr>\n",
       "    <tr>\n",
       "      <th>4</th>\n",
       "      <td>89</td>\n",
       "      <td>1454429071580930048</td>\n",
       "      <td>2021-10-30</td>\n",
       "      <td>Answer ALL questions There is no negative mark...</td>\n",
       "      <td>12:44:47+00:00</td>\n",
       "      <td>[answer, question, negative, marking, make, su...</td>\n",
       "      <td>0.012500</td>\n",
       "      <td>pos</td>\n",
       "      <td>neg</td>\n",
       "    </tr>\n",
       "  </tbody>\n",
       "</table>\n",
       "</div>"
      ],
      "text/plain": [
       "   Unnamed: 0                   ID  ... TextBlob_Sentiment Vader_Sentiment\n",
       "0           2  1454594698614562821  ...                neg             neu\n",
       "1          41  1454485143037546497  ...                pos             pos\n",
       "2          42  1454481924928389123  ...                neu             neu\n",
       "3          86  1454430596613099520  ...                neu             pos\n",
       "4          89  1454429071580930048  ...                pos             neg\n",
       "\n",
       "[5 rows x 9 columns]"
      ]
     },
     "execution_count": 90,
     "metadata": {},
     "output_type": "execute_result"
    }
   ],
   "source": [
    "#Add Vader sentiment to copy\n",
    "copy[\"Vader_Sentiment\"]=Vader_sentiment\n",
    "copy.head()   "
   ]
  },
  {
   "cell_type": "markdown",
   "id": "Ip3YogRRVse-",
   "metadata": {
    "id": "Ip3YogRRVse-"
   },
   "source": [
    "## Sentiment Analysis Visualization"
   ]
  },
  {
   "cell_type": "code",
   "execution_count": 91,
   "id": "5esbG9DNVse_",
   "metadata": {
    "colab": {
     "base_uri": "https://localhost:8080/"
    },
    "executionInfo": {
     "elapsed": 31,
     "status": "ok",
     "timestamp": 1637116064751,
     "user": {
      "displayName": "Rosie Nguyen",
      "photoUrl": "https://lh3.googleusercontent.com/a-/AOh14Gg8VPQvlV-dIeIfmn9DbfD6olRxnSRwLXXUWlaA=s64",
      "userId": "15013244958255868355"
     },
     "user_tz": 480
    },
    "id": "5esbG9DNVse_",
    "outputId": "0f97313e-59d5-4dcb-d185-b62f02dc3749"
   },
   "outputs": [
    {
     "name": "stdout",
     "output_type": "stream",
     "text": [
      "pos    16519\n",
      "neu     8009\n",
      "neg     3555\n",
      "Name: TextBlob_Sentiment, dtype: int64\n",
      "pos    18402\n",
      "neu     5799\n",
      "neg     3882\n",
      "Name: Vader_Sentiment, dtype: int64\n"
     ]
    }
   ],
   "source": [
    "TextBlob_Sentiment= copy.TextBlob_Sentiment.value_counts() #(normalize=True)\n",
    "Vader_Sentiment= copy.Vader_Sentiment.value_counts()\n",
    "print(TextBlob_Sentiment)\n",
    "print(Vader_Sentiment)"
   ]
  },
  {
   "cell_type": "code",
   "execution_count": 92,
   "id": "jUmR_SKhVse_",
   "metadata": {
    "colab": {
     "base_uri": "https://localhost:8080/",
     "height": 0
    },
    "executionInfo": {
     "elapsed": 356,
     "status": "ok",
     "timestamp": 1637116065083,
     "user": {
      "displayName": "Rosie Nguyen",
      "photoUrl": "https://lh3.googleusercontent.com/a-/AOh14Gg8VPQvlV-dIeIfmn9DbfD6olRxnSRwLXXUWlaA=s64",
      "userId": "15013244958255868355"
     },
     "user_tz": 480
    },
    "id": "jUmR_SKhVse_",
    "outputId": "bba9f743-7bff-4f20-a496-f24c91de9214"
   },
   "outputs": [
    {
     "data": {
      "text/html": [
       "<html>\n",
       "<head><meta charset=\"utf-8\" /></head>\n",
       "<body>\n",
       "    <div>\n",
       "            <script src=\"https://cdnjs.cloudflare.com/ajax/libs/mathjax/2.7.5/MathJax.js?config=TeX-AMS-MML_SVG\"></script><script type=\"text/javascript\">if (window.MathJax) {MathJax.Hub.Config({SVG: {font: \"STIX-Web\"}});}</script>\n",
       "                <script type=\"text/javascript\">window.PlotlyConfig = {MathJaxConfig: 'local'};</script>\n",
       "        <script src=\"https://cdn.plot.ly/plotly-latest.min.js\"></script>    \n",
       "            <div id=\"28b20d72-d601-462b-b95d-77d5943deaf4\" class=\"plotly-graph-div\" style=\"height:525px; width:100%;\"></div>\n",
       "            <script type=\"text/javascript\">\n",
       "                \n",
       "                    window.PLOTLYENV=window.PLOTLYENV || {};\n",
       "                    \n",
       "                if (document.getElementById(\"28b20d72-d601-462b-b95d-77d5943deaf4\")) {\n",
       "                    Plotly.newPlot(\n",
       "                        '28b20d72-d601-462b-b95d-77d5943deaf4',\n",
       "                        [{\"domain\": {\"x\": [0.0, 0.45], \"y\": [0.0, 1.0]}, \"hole\": 0.4, \"hoverinfo\": \"label+percent+name\", \"labels\": [\"pos\", \"neu\", \"neg\"], \"name\": \"TextBlob Sentiment\", \"type\": \"pie\", \"values\": [16519, 8009, 3555]}, {\"domain\": {\"x\": [0.55, 1.0], \"y\": [0.0, 1.0]}, \"hole\": 0.4, \"hoverinfo\": \"label+percent+name\", \"labels\": [\"pos\", \"neu\", \"neg\"], \"name\": \"Vader Sentiment\", \"type\": \"pie\", \"values\": [18402, 5799, 3882]}],\n",
       "                        {\"annotations\": [{\"font\": {\"size\": 20}, \"showarrow\": false, \"text\": \"Textblob\", \"x\": 0.18, \"y\": 0.5}, {\"font\": {\"size\": 20}, \"showarrow\": false, \"text\": \"Vader\", \"x\": 0.82, \"y\": 0.5}], \"template\": {\"data\": {\"bar\": [{\"error_x\": {\"color\": \"#2a3f5f\"}, \"error_y\": {\"color\": \"#2a3f5f\"}, \"marker\": {\"line\": {\"color\": \"#E5ECF6\", \"width\": 0.5}}, \"type\": \"bar\"}], \"barpolar\": [{\"marker\": {\"line\": {\"color\": \"#E5ECF6\", \"width\": 0.5}}, \"type\": \"barpolar\"}], \"carpet\": [{\"aaxis\": {\"endlinecolor\": \"#2a3f5f\", \"gridcolor\": \"white\", \"linecolor\": \"white\", \"minorgridcolor\": \"white\", \"startlinecolor\": \"#2a3f5f\"}, \"baxis\": {\"endlinecolor\": \"#2a3f5f\", \"gridcolor\": \"white\", \"linecolor\": \"white\", \"minorgridcolor\": \"white\", \"startlinecolor\": \"#2a3f5f\"}, \"type\": \"carpet\"}], \"choropleth\": [{\"colorbar\": {\"outlinewidth\": 0, \"ticks\": \"\"}, \"type\": \"choropleth\"}], \"contour\": [{\"colorbar\": {\"outlinewidth\": 0, \"ticks\": \"\"}, \"colorscale\": [[0.0, \"#0d0887\"], [0.1111111111111111, \"#46039f\"], [0.2222222222222222, \"#7201a8\"], [0.3333333333333333, \"#9c179e\"], [0.4444444444444444, \"#bd3786\"], [0.5555555555555556, \"#d8576b\"], [0.6666666666666666, \"#ed7953\"], [0.7777777777777778, \"#fb9f3a\"], [0.8888888888888888, \"#fdca26\"], [1.0, \"#f0f921\"]], \"type\": \"contour\"}], \"contourcarpet\": [{\"colorbar\": {\"outlinewidth\": 0, \"ticks\": \"\"}, \"type\": \"contourcarpet\"}], \"heatmap\": [{\"colorbar\": {\"outlinewidth\": 0, \"ticks\": \"\"}, \"colorscale\": [[0.0, \"#0d0887\"], [0.1111111111111111, \"#46039f\"], [0.2222222222222222, \"#7201a8\"], [0.3333333333333333, \"#9c179e\"], [0.4444444444444444, \"#bd3786\"], [0.5555555555555556, \"#d8576b\"], [0.6666666666666666, \"#ed7953\"], [0.7777777777777778, \"#fb9f3a\"], [0.8888888888888888, \"#fdca26\"], [1.0, \"#f0f921\"]], \"type\": \"heatmap\"}], \"heatmapgl\": [{\"colorbar\": {\"outlinewidth\": 0, \"ticks\": \"\"}, \"colorscale\": [[0.0, \"#0d0887\"], [0.1111111111111111, \"#46039f\"], [0.2222222222222222, \"#7201a8\"], [0.3333333333333333, \"#9c179e\"], [0.4444444444444444, \"#bd3786\"], [0.5555555555555556, \"#d8576b\"], [0.6666666666666666, \"#ed7953\"], [0.7777777777777778, \"#fb9f3a\"], [0.8888888888888888, \"#fdca26\"], [1.0, \"#f0f921\"]], \"type\": \"heatmapgl\"}], \"histogram\": [{\"marker\": {\"colorbar\": {\"outlinewidth\": 0, \"ticks\": \"\"}}, \"type\": \"histogram\"}], \"histogram2d\": [{\"colorbar\": {\"outlinewidth\": 0, \"ticks\": \"\"}, \"colorscale\": [[0.0, \"#0d0887\"], [0.1111111111111111, \"#46039f\"], [0.2222222222222222, \"#7201a8\"], [0.3333333333333333, \"#9c179e\"], [0.4444444444444444, \"#bd3786\"], [0.5555555555555556, \"#d8576b\"], [0.6666666666666666, \"#ed7953\"], [0.7777777777777778, \"#fb9f3a\"], [0.8888888888888888, \"#fdca26\"], [1.0, \"#f0f921\"]], \"type\": \"histogram2d\"}], \"histogram2dcontour\": [{\"colorbar\": {\"outlinewidth\": 0, \"ticks\": \"\"}, \"colorscale\": [[0.0, \"#0d0887\"], [0.1111111111111111, \"#46039f\"], [0.2222222222222222, \"#7201a8\"], [0.3333333333333333, \"#9c179e\"], [0.4444444444444444, \"#bd3786\"], [0.5555555555555556, \"#d8576b\"], [0.6666666666666666, \"#ed7953\"], [0.7777777777777778, \"#fb9f3a\"], [0.8888888888888888, \"#fdca26\"], [1.0, \"#f0f921\"]], \"type\": \"histogram2dcontour\"}], \"mesh3d\": [{\"colorbar\": {\"outlinewidth\": 0, \"ticks\": \"\"}, \"type\": \"mesh3d\"}], \"parcoords\": [{\"line\": {\"colorbar\": {\"outlinewidth\": 0, \"ticks\": \"\"}}, \"type\": \"parcoords\"}], \"pie\": [{\"automargin\": true, \"type\": \"pie\"}], \"scatter\": [{\"marker\": {\"colorbar\": {\"outlinewidth\": 0, \"ticks\": \"\"}}, \"type\": \"scatter\"}], \"scatter3d\": [{\"line\": {\"colorbar\": {\"outlinewidth\": 0, \"ticks\": \"\"}}, \"marker\": {\"colorbar\": {\"outlinewidth\": 0, \"ticks\": \"\"}}, \"type\": \"scatter3d\"}], \"scattercarpet\": [{\"marker\": {\"colorbar\": {\"outlinewidth\": 0, \"ticks\": \"\"}}, \"type\": \"scattercarpet\"}], \"scattergeo\": [{\"marker\": {\"colorbar\": {\"outlinewidth\": 0, \"ticks\": \"\"}}, \"type\": \"scattergeo\"}], \"scattergl\": [{\"marker\": {\"colorbar\": {\"outlinewidth\": 0, \"ticks\": \"\"}}, \"type\": \"scattergl\"}], \"scattermapbox\": [{\"marker\": {\"colorbar\": {\"outlinewidth\": 0, \"ticks\": \"\"}}, \"type\": \"scattermapbox\"}], \"scatterpolar\": [{\"marker\": {\"colorbar\": {\"outlinewidth\": 0, \"ticks\": \"\"}}, \"type\": \"scatterpolar\"}], \"scatterpolargl\": [{\"marker\": {\"colorbar\": {\"outlinewidth\": 0, \"ticks\": \"\"}}, \"type\": \"scatterpolargl\"}], \"scatterternary\": [{\"marker\": {\"colorbar\": {\"outlinewidth\": 0, \"ticks\": \"\"}}, \"type\": \"scatterternary\"}], \"surface\": [{\"colorbar\": {\"outlinewidth\": 0, \"ticks\": \"\"}, \"colorscale\": [[0.0, \"#0d0887\"], [0.1111111111111111, \"#46039f\"], [0.2222222222222222, \"#7201a8\"], [0.3333333333333333, \"#9c179e\"], [0.4444444444444444, \"#bd3786\"], [0.5555555555555556, \"#d8576b\"], [0.6666666666666666, \"#ed7953\"], [0.7777777777777778, \"#fb9f3a\"], [0.8888888888888888, \"#fdca26\"], [1.0, \"#f0f921\"]], \"type\": \"surface\"}], \"table\": [{\"cells\": {\"fill\": {\"color\": \"#EBF0F8\"}, \"line\": {\"color\": \"white\"}}, \"header\": {\"fill\": {\"color\": \"#C8D4E3\"}, \"line\": {\"color\": \"white\"}}, \"type\": \"table\"}]}, \"layout\": {\"annotationdefaults\": {\"arrowcolor\": \"#2a3f5f\", \"arrowhead\": 0, \"arrowwidth\": 1}, \"coloraxis\": {\"colorbar\": {\"outlinewidth\": 0, \"ticks\": \"\"}}, \"colorscale\": {\"diverging\": [[0, \"#8e0152\"], [0.1, \"#c51b7d\"], [0.2, \"#de77ae\"], [0.3, \"#f1b6da\"], [0.4, \"#fde0ef\"], [0.5, \"#f7f7f7\"], [0.6, \"#e6f5d0\"], [0.7, \"#b8e186\"], [0.8, \"#7fbc41\"], [0.9, \"#4d9221\"], [1, \"#276419\"]], \"sequential\": [[0.0, \"#0d0887\"], [0.1111111111111111, \"#46039f\"], [0.2222222222222222, \"#7201a8\"], [0.3333333333333333, \"#9c179e\"], [0.4444444444444444, \"#bd3786\"], [0.5555555555555556, \"#d8576b\"], [0.6666666666666666, \"#ed7953\"], [0.7777777777777778, \"#fb9f3a\"], [0.8888888888888888, \"#fdca26\"], [1.0, \"#f0f921\"]], \"sequentialminus\": [[0.0, \"#0d0887\"], [0.1111111111111111, \"#46039f\"], [0.2222222222222222, \"#7201a8\"], [0.3333333333333333, \"#9c179e\"], [0.4444444444444444, \"#bd3786\"], [0.5555555555555556, \"#d8576b\"], [0.6666666666666666, \"#ed7953\"], [0.7777777777777778, \"#fb9f3a\"], [0.8888888888888888, \"#fdca26\"], [1.0, \"#f0f921\"]]}, \"colorway\": [\"#636efa\", \"#EF553B\", \"#00cc96\", \"#ab63fa\", \"#FFA15A\", \"#19d3f3\", \"#FF6692\", \"#B6E880\", \"#FF97FF\", \"#FECB52\"], \"font\": {\"color\": \"#2a3f5f\"}, \"geo\": {\"bgcolor\": \"white\", \"lakecolor\": \"white\", \"landcolor\": \"#E5ECF6\", \"showlakes\": true, \"showland\": true, \"subunitcolor\": \"white\"}, \"hoverlabel\": {\"align\": \"left\"}, \"hovermode\": \"closest\", \"mapbox\": {\"style\": \"light\"}, \"paper_bgcolor\": \"white\", \"plot_bgcolor\": \"#E5ECF6\", \"polar\": {\"angularaxis\": {\"gridcolor\": \"white\", \"linecolor\": \"white\", \"ticks\": \"\"}, \"bgcolor\": \"#E5ECF6\", \"radialaxis\": {\"gridcolor\": \"white\", \"linecolor\": \"white\", \"ticks\": \"\"}}, \"scene\": {\"xaxis\": {\"backgroundcolor\": \"#E5ECF6\", \"gridcolor\": \"white\", \"gridwidth\": 2, \"linecolor\": \"white\", \"showbackground\": true, \"ticks\": \"\", \"zerolinecolor\": \"white\"}, \"yaxis\": {\"backgroundcolor\": \"#E5ECF6\", \"gridcolor\": \"white\", \"gridwidth\": 2, \"linecolor\": \"white\", \"showbackground\": true, \"ticks\": \"\", \"zerolinecolor\": \"white\"}, \"zaxis\": {\"backgroundcolor\": \"#E5ECF6\", \"gridcolor\": \"white\", \"gridwidth\": 2, \"linecolor\": \"white\", \"showbackground\": true, \"ticks\": \"\", \"zerolinecolor\": \"white\"}}, \"shapedefaults\": {\"line\": {\"color\": \"#2a3f5f\"}}, \"ternary\": {\"aaxis\": {\"gridcolor\": \"white\", \"linecolor\": \"white\", \"ticks\": \"\"}, \"baxis\": {\"gridcolor\": \"white\", \"linecolor\": \"white\", \"ticks\": \"\"}, \"bgcolor\": \"#E5ECF6\", \"caxis\": {\"gridcolor\": \"white\", \"linecolor\": \"white\", \"ticks\": \"\"}}, \"title\": {\"x\": 0.05}, \"xaxis\": {\"automargin\": true, \"gridcolor\": \"white\", \"linecolor\": \"white\", \"ticks\": \"\", \"title\": {\"standoff\": 15}, \"zerolinecolor\": \"white\", \"zerolinewidth\": 2}, \"yaxis\": {\"automargin\": true, \"gridcolor\": \"white\", \"linecolor\": \"white\", \"ticks\": \"\", \"title\": {\"standoff\": 15}, \"zerolinecolor\": \"white\", \"zerolinewidth\": 2}}}, \"title\": {\"text\": \"Sentiment Analysis Visualization\"}},\n",
       "                        {\"responsive\": true}\n",
       "                    ).then(function(){\n",
       "                            \n",
       "var gd = document.getElementById('28b20d72-d601-462b-b95d-77d5943deaf4');\n",
       "var x = new MutationObserver(function (mutations, observer) {{\n",
       "        var display = window.getComputedStyle(gd).display;\n",
       "        if (!display || display === 'none') {{\n",
       "            console.log([gd, 'removed!']);\n",
       "            Plotly.purge(gd);\n",
       "            observer.disconnect();\n",
       "        }}\n",
       "}});\n",
       "\n",
       "// Listen for the removal of the full notebook cells\n",
       "var notebookContainer = gd.closest('#notebook-container');\n",
       "if (notebookContainer) {{\n",
       "    x.observe(notebookContainer, {childList: true});\n",
       "}}\n",
       "\n",
       "// Listen for the clearing of the current output cell\n",
       "var outputEl = gd.closest('.output');\n",
       "if (outputEl) {{\n",
       "    x.observe(outputEl, {childList: true});\n",
       "}}\n",
       "\n",
       "                        })\n",
       "                };\n",
       "                \n",
       "            </script>\n",
       "        </div>\n",
       "</body>\n",
       "</html>"
      ]
     },
     "metadata": {},
     "output_type": "display_data"
    }
   ],
   "source": [
    "import plotly.graph_objects as go\n",
    "from plotly.subplots import make_subplots\n",
    "# Create subplots: use 'domain' type for Pie subplot\n",
    "fig = make_subplots(rows=1, cols=2, specs=[[{'type':'domain'}, {'type':'domain'}]])\n",
    "fig.add_trace(go.Pie(labels=TextBlob_Sentiment.index.tolist(), values=TextBlob_Sentiment.iloc[:].tolist(), name=\"TextBlob Sentiment\"),\n",
    "              1, 1)\n",
    "fig.add_trace(go.Pie(labels=Vader_Sentiment.index.tolist(), values=Vader_Sentiment.iloc[:].tolist(), name=\"Vader Sentiment\"),\n",
    "              1, 2)\n",
    "\n",
    "# Use 'hole' to create a donut-like pie chart\n",
    "fig.update_traces(hole=.4, hoverinfo=\"label+percent+name\")\n",
    "\n",
    "fig.update_layout(\n",
    "    title_text=\"Sentiment Analysis Visualization\",\n",
    "    # Add annotations in the center of the donut pies.\n",
    "    annotations=[dict(text='Textblob', x=0.18, y=0.5, font_size=20, showarrow=False),\n",
    "                 dict(text='Vader', x=0.82, y=0.5, font_size=20, showarrow=False)])\n",
    "fig.show()"
   ]
  },
  {
   "cell_type": "markdown",
   "id": "0rJOmi8TVsfB",
   "metadata": {
    "id": "0rJOmi8TVsfB"
   },
   "source": [
    "\n",
    "## Sentistrength Sentiment Analysis\n",
    "Link: http://sentistrength.wlv.ac.uk/\n",
    "SentiStrength estimates the strength of positive and negative sentiment in short texts, even for informal language. It has human-level accuracy for short social web texts in English, except political texts. SentiStrength reports two sentiment strengths:\n",
    "\n",
    "-1 (not negative) to -5 (extremely negative)\n",
    "\n",
    "1 (not positive) to 5 (extremely positive)"
   ]
  },
  {
   "cell_type": "code",
   "execution_count": 93,
   "id": "RLW-U6SeVsfB",
   "metadata": {
    "executionInfo": {
     "elapsed": 163,
     "status": "ok",
     "timestamp": 1637116065236,
     "user": {
      "displayName": "Rosie Nguyen",
      "photoUrl": "https://lh3.googleusercontent.com/a-/AOh14Gg8VPQvlV-dIeIfmn9DbfD6olRxnSRwLXXUWlaA=s64",
      "userId": "15013244958255868355"
     },
     "user_tz": 480
    },
    "id": "RLW-U6SeVsfB"
   },
   "outputs": [],
   "source": [
    "copy['Tweet'].to_csv('sentistrength.txt',sep= ' ', index=True,header= False)"
   ]
  },
  {
   "cell_type": "markdown",
   "id": "N-MJ_jSHVsfC",
   "metadata": {
    "id": "N-MJ_jSHVsfC"
   },
   "source": [
    "It doesn't work. Send the code to the professor"
   ]
  },
  {
   "cell_type": "markdown",
   "id": "Fo0jeUCeVsfC",
   "metadata": {
    "id": "Fo0jeUCeVsfC"
   },
   "source": [
    "## Time Series"
   ]
  },
  {
   "cell_type": "markdown",
   "id": "3l8srvtQVsfC",
   "metadata": {
    "id": "3l8srvtQVsfC"
   },
   "source": [
    "Historical trend: Level, trend, seasonality  (time series components)\n",
    "\n",
    "Count neg and pos each month"
   ]
  },
  {
   "cell_type": "markdown",
   "id": "P_3RgVTVt5wG",
   "metadata": {
    "id": "P_3RgVTVt5wG"
   },
   "source": [
    "Plot historical monthly data"
   ]
  },
  {
   "cell_type": "code",
   "execution_count": 93,
   "id": "BdpltmxTuA3C",
   "metadata": {
    "executionInfo": {
     "elapsed": 5,
     "status": "ok",
     "timestamp": 1637116065237,
     "user": {
      "displayName": "Rosie Nguyen",
      "photoUrl": "https://lh3.googleusercontent.com/a-/AOh14Gg8VPQvlV-dIeIfmn9DbfD6olRxnSRwLXXUWlaA=s64",
      "userId": "15013244958255868355"
     },
     "user_tz": 480
    },
    "id": "BdpltmxTuA3C"
   },
   "outputs": [],
   "source": []
  },
  {
   "cell_type": "markdown",
   "id": "FPF3GyawVsfC",
   "metadata": {
    "id": "FPF3GyawVsfC"
   },
   "source": [
    "## Topic Modeling with LDA for positive tweets"
   ]
  },
  {
   "cell_type": "markdown",
   "id": "0Wt-vtXIVsfD",
   "metadata": {
    "id": "0Wt-vtXIVsfD"
   },
   "source": [
    "Creating a Bag Of Words I’ll use Gensim’s Dictionary constructor to give each word in the tweet corpus a unique integer identifier.\n",
    "\n"
   ]
  },
  {
   "cell_type": "code",
   "execution_count": 94,
   "id": "yJ3mju_BVsfD",
   "metadata": {
    "executionInfo": {
     "elapsed": 6,
     "status": "ok",
     "timestamp": 1637116065238,
     "user": {
      "displayName": "Rosie Nguyen",
      "photoUrl": "https://lh3.googleusercontent.com/a-/AOh14Gg8VPQvlV-dIeIfmn9DbfD6olRxnSRwLXXUWlaA=s64",
      "userId": "15013244958255868355"
     },
     "user_tz": 480
    },
    "id": "yJ3mju_BVsfD"
   },
   "outputs": [],
   "source": [
    "copy_positive = copy.loc[copy['TextBlob_Sentiment'] == 'pos']"
   ]
  },
  {
   "cell_type": "code",
   "execution_count": 95,
   "id": "xZnQIAz2VsfD",
   "metadata": {
    "colab": {
     "base_uri": "https://localhost:8080/"
    },
    "executionInfo": {
     "elapsed": 386,
     "status": "ok",
     "timestamp": 1637116065760,
     "user": {
      "displayName": "Rosie Nguyen",
      "photoUrl": "https://lh3.googleusercontent.com/a-/AOh14Gg8VPQvlV-dIeIfmn9DbfD6olRxnSRwLXXUWlaA=s64",
      "userId": "15013244958255868355"
     },
     "user_tz": 480
    },
    "id": "xZnQIAz2VsfD",
    "outputId": "c10e0f70-53aa-4e99-f8ed-28fd9af0767e"
   },
   "outputs": [
    {
     "name": "stdout",
     "output_type": "stream",
     "text": [
      "0 child\n",
      "1 engage\n",
      "2 great\n",
      "3 learning\n",
      "4 make\n",
      "5 pas\n",
      "6 reading\n",
      "7 recommendation\n",
      "8 take\n",
      "9 talk\n",
      "10 turn\n"
     ]
    }
   ],
   "source": [
    "#create dictionary\n",
    "word_dict = gensim.corpora.Dictionary(copy_positive.clean_tweet)\n",
    "\n",
    "count = 0\n",
    "for k, v in word_dict.iteritems():\n",
    "    print(k, v)\n",
    "    count += 1\n",
    "    if count > 10:\n",
    "        break"
   ]
  },
  {
   "cell_type": "markdown",
   "id": "wU02u0MtVsfD",
   "metadata": {
    "id": "wU02u0MtVsfD"
   },
   "source": [
    "### Gensim doc2bow\n",
    "\n",
    "For each document we create a dictionary reporting how many\n",
    "words and how many times those words appear. Save this to ‘document_term_matrix’, then check our selected document earlier."
   ]
  },
  {
   "cell_type": "code",
   "execution_count": 96,
   "id": "_CQFAHP5VsfE",
   "metadata": {
    "colab": {
     "base_uri": "https://localhost:8080/"
    },
    "executionInfo": {
     "elapsed": 447,
     "status": "ok",
     "timestamp": 1637116066197,
     "user": {
      "displayName": "Rosie Nguyen",
      "photoUrl": "https://lh3.googleusercontent.com/a-/AOh14Gg8VPQvlV-dIeIfmn9DbfD6olRxnSRwLXXUWlaA=s64",
      "userId": "15013244958255868355"
     },
     "user_tz": 480
    },
    "id": "_CQFAHP5VsfE",
    "outputId": "b88aaa36-94d9-4201-9b39-18baaaa906e9"
   },
   "outputs": [
    {
     "name": "stdout",
     "output_type": "stream",
     "text": [
      "[(414, 1), (462, 1), (463, 1), (464, 1), (465, 1), (466, 1), (467, 1), (468, 1), (469, 1)]\n"
     ]
    }
   ],
   "source": [
    "document_term_matrix = [word_dict.doc2bow(tweet) for tweet in copy_positive['clean_tweet']]\n",
    "print(document_term_matrix[50])\n"
   ]
  },
  {
   "cell_type": "markdown",
   "id": "pS2XoekhVsfE",
   "metadata": {
    "id": "pS2XoekhVsfE"
   },
   "source": [
    "Preview Bag Of Words for our sample preprocessed document."
   ]
  },
  {
   "cell_type": "code",
   "execution_count": 97,
   "id": "pkSNmpfPVsfE",
   "metadata": {
    "colab": {
     "base_uri": "https://localhost:8080/"
    },
    "executionInfo": {
     "elapsed": 12,
     "status": "ok",
     "timestamp": 1637116066199,
     "user": {
      "displayName": "Rosie Nguyen",
      "photoUrl": "https://lh3.googleusercontent.com/a-/AOh14Gg8VPQvlV-dIeIfmn9DbfD6olRxnSRwLXXUWlaA=s64",
      "userId": "15013244958255868355"
     },
     "user_tz": 480
    },
    "id": "pkSNmpfPVsfE",
    "outputId": "31354471-e28f-474e-c124-b56cbe0ef840"
   },
   "outputs": [
    {
     "name": "stdout",
     "output_type": "stream",
     "text": [
      "Word 414 (\"content\") appears 1 time.\n",
      "Word 462 (\"catching\") appears 1 time.\n",
      "Word 463 (\"certificate\") appears 1 time.\n",
      "Word 464 (\"extended\") appears 1 time.\n",
      "Word 465 (\"little\") appears 1 time.\n",
      "Word 466 (\"registration\") appears 1 time.\n",
      "Word 467 (\"rn\") appears 1 time.\n",
      "Word 468 (\"unmatched\") appears 1 time.\n",
      "Word 469 (\"worth\") appears 1 time.\n"
     ]
    }
   ],
   "source": [
    "document_term_matrix_50 = document_term_matrix[50]\n",
    "for i in range(len(document_term_matrix_50)):\n",
    "    print(\"Word {} (\\\"{}\\\") appears {} time.\".format(document_term_matrix_50[i][0], \n",
    "                                               word_dict[document_term_matrix_50[i][0]], \n",
    "document_term_matrix_50[i][1]))"
   ]
  },
  {
   "cell_type": "markdown",
   "id": "XksGcXhHVsfE",
   "metadata": {
    "id": "XksGcXhHVsfE"
   },
   "source": [
    "## Running LDA Using Bag of Words"
   ]
  },
  {
   "cell_type": "markdown",
   "id": "P42Y15I5VsfE",
   "metadata": {
    "id": "P42Y15I5VsfE"
   },
   "source": [
    "Train our lda model using gensim.models.LdaMulticore and save it to ‘lda_model’"
   ]
  },
  {
   "cell_type": "code",
   "execution_count": 98,
   "id": "oy_VnqatVsfE",
   "metadata": {
    "executionInfo": {
     "elapsed": 22873,
     "status": "ok",
     "timestamp": 1637116089062,
     "user": {
      "displayName": "Rosie Nguyen",
      "photoUrl": "https://lh3.googleusercontent.com/a-/AOh14Gg8VPQvlV-dIeIfmn9DbfD6olRxnSRwLXXUWlaA=s64",
      "userId": "15013244958255868355"
     },
     "user_tz": 480
    },
    "id": "oy_VnqatVsfE"
   },
   "outputs": [],
   "source": [
    "lda_model = gensim.models.LdaMulticore(document_term_matrix, num_topics=10, \n",
    "                                       id2word=word_dict, passes=2, workers=2)\n"
   ]
  },
  {
   "cell_type": "markdown",
   "id": "-Q-q7XhhVsfF",
   "metadata": {
    "id": "-Q-q7XhhVsfF"
   },
   "source": [
    "For each topic, we will explore the words occuring in that topic and its relative weight."
   ]
  },
  {
   "cell_type": "code",
   "execution_count": 99,
   "id": "5K9NNNKTVsfF",
   "metadata": {
    "colab": {
     "base_uri": "https://localhost:8080/"
    },
    "executionInfo": {
     "elapsed": 65,
     "status": "ok",
     "timestamp": 1637116089063,
     "user": {
      "displayName": "Rosie Nguyen",
      "photoUrl": "https://lh3.googleusercontent.com/a-/AOh14Gg8VPQvlV-dIeIfmn9DbfD6olRxnSRwLXXUWlaA=s64",
      "userId": "15013244958255868355"
     },
     "user_tz": 480
    },
    "id": "5K9NNNKTVsfF",
    "outputId": "dcb1e35c-b985-436d-b791-66f15a8b3d84"
   },
   "outputs": [
    {
     "name": "stdout",
     "output_type": "stream",
     "text": [
      "Topic: 0 \n",
      "Words: 0.015*\"amp\" + 0.010*\"way\" + 0.010*\"need\" + 0.009*\"really\" + 0.009*\"class\" + 0.008*\"year\" + 0.007*\"time\" + 0.006*\"good\" + 0.006*\"course\" + 0.006*\"teacher\"\n",
      "Topic: 1 \n",
      "Words: 0.013*\"teaching\" + 0.010*\"one\" + 0.010*\"many\" + 0.010*\"work\" + 0.009*\"great\" + 0.009*\"course\" + 0.008*\"day\" + 0.008*\"week\" + 0.008*\"kid\" + 0.007*\"get\"\n",
      "Topic: 2 \n",
      "Words: 0.024*\"learning\" + 0.008*\"many\" + 0.008*\"one\" + 0.007*\"way\" + 0.007*\"help\" + 0.007*\"idea\" + 0.007*\"amp\" + 0.006*\"u\" + 0.005*\"access\" + 0.005*\"teaching\"\n",
      "Topic: 3 \n",
      "Words: 0.013*\"time\" + 0.010*\"great\" + 0.010*\"class\" + 0.010*\"amp\" + 0.010*\"new\" + 0.009*\"course\" + 0.009*\"resource\" + 0.008*\"day\" + 0.007*\"need\" + 0.007*\"free\"\n",
      "Topic: 4 \n",
      "Words: 0.013*\"course\" + 0.011*\"like\" + 0.011*\"good\" + 0.008*\"week\" + 0.007*\"would\" + 0.007*\"learning\" + 0.006*\"keep\" + 0.006*\"support\" + 0.006*\"really\" + 0.006*\"want\"\n",
      "Topic: 5 \n",
      "Words: 0.015*\"resource\" + 0.012*\"learning\" + 0.010*\"course\" + 0.010*\"share\" + 0.009*\"thanks\" + 0.009*\"u\" + 0.008*\"anyone\" + 0.007*\"please\" + 0.007*\"best\" + 0.007*\"closure\"\n",
      "Topic: 6 \n",
      "Words: 0.032*\"class\" + 0.011*\"learning\" + 0.007*\"experience\" + 0.007*\"great\" + 0.007*\"teaching\" + 0.007*\"work\" + 0.007*\"good\" + 0.006*\"first\" + 0.006*\"today\" + 0.006*\"time\"\n",
      "Topic: 7 \n",
      "Words: 0.019*\"learning\" + 0.013*\"teacher\" + 0.012*\"first\" + 0.011*\"home\" + 0.009*\"day\" + 0.009*\"class\" + 0.009*\"amp\" + 0.009*\"time\" + 0.008*\"best\" + 0.007*\"parent\"\n",
      "Topic: 8 \n",
      "Words: 0.024*\"learning\" + 0.022*\"amp\" + 0.011*\"course\" + 0.010*\"make\" + 0.010*\"video\" + 0.009*\"new\" + 0.009*\"help\" + 0.008*\"need\" + 0.008*\"time\" + 0.007*\"teacher\"\n",
      "Topic: 9 \n",
      "Words: 0.016*\"learning\" + 0.015*\"teacher\" + 0.010*\"lesson\" + 0.009*\"amp\" + 0.009*\"teaching\" + 0.008*\"today\" + 0.007*\"work\" + 0.007*\"live\" + 0.006*\"make\" + 0.006*\"get\"\n"
     ]
    }
   ],
   "source": [
    "for idx, topic in lda_model.print_topics(-1):\n",
    "    print('Topic: {} \\nWords: {}'.format(idx, topic))"
   ]
  },
  {
   "cell_type": "markdown",
   "id": "q3t5i2MnVsfF",
   "metadata": {
    "id": "q3t5i2MnVsfF"
   },
   "source": [
    "## Topic Modeling with LDA for negative tweets"
   ]
  },
  {
   "cell_type": "code",
   "execution_count": 100,
   "id": "Bd4m-Yj_VsfF",
   "metadata": {
    "executionInfo": {
     "elapsed": 32,
     "status": "ok",
     "timestamp": 1637116089063,
     "user": {
      "displayName": "Rosie Nguyen",
      "photoUrl": "https://lh3.googleusercontent.com/a-/AOh14Gg8VPQvlV-dIeIfmn9DbfD6olRxnSRwLXXUWlaA=s64",
      "userId": "15013244958255868355"
     },
     "user_tz": 480
    },
    "id": "Bd4m-Yj_VsfF"
   },
   "outputs": [],
   "source": [
    "copy_negative = copy.loc[copy['TextBlob_Sentiment'] == 'neg']"
   ]
  },
  {
   "cell_type": "code",
   "execution_count": 101,
   "id": "w-rVWMVTVsfF",
   "metadata": {
    "colab": {
     "base_uri": "https://localhost:8080/"
    },
    "executionInfo": {
     "elapsed": 165,
     "status": "ok",
     "timestamp": 1637116089201,
     "user": {
      "displayName": "Rosie Nguyen",
      "photoUrl": "https://lh3.googleusercontent.com/a-/AOh14Gg8VPQvlV-dIeIfmn9DbfD6olRxnSRwLXXUWlaA=s64",
      "userId": "15013244958255868355"
     },
     "user_tz": 480
    },
    "id": "w-rVWMVTVsfF",
    "outputId": "55f42069-ae23-4840-abd9-eeab06bf138a"
   },
   "outputs": [
    {
     "name": "stdout",
     "output_type": "stream",
     "text": [
      "0 every\n",
      "1 going\n",
      "2 green\n",
      "3 lesson\n",
      "4 star\n",
      "5 unit\n",
      "6 around\n",
      "7 colgate\n",
      "8 dedicated\n",
      "9 displaying\n",
      "10 entree\n"
     ]
    }
   ],
   "source": [
    "#create dictionary\n",
    "word_dict = gensim.corpora.Dictionary(copy_negative.clean_tweet)\n",
    "\n",
    "count = 0\n",
    "for k, v in word_dict.iteritems():\n",
    "    print(k, v)\n",
    "    count += 1\n",
    "    if count > 10:\n",
    "        break"
   ]
  },
  {
   "cell_type": "markdown",
   "id": "FVGmXviKVsfF",
   "metadata": {
    "id": "FVGmXviKVsfF"
   },
   "source": [
    "### Gensim doc2bow\n",
    "\n",
    "For each document we create a dictionary reporting how many\n",
    "words and how many times those words appear. Save this to ‘document_term_matrix’, then check our selected document earlier."
   ]
  },
  {
   "cell_type": "code",
   "execution_count": 102,
   "id": "7XZR_k-RVsfG",
   "metadata": {
    "colab": {
     "base_uri": "https://localhost:8080/"
    },
    "executionInfo": {
     "elapsed": 7,
     "status": "ok",
     "timestamp": 1637116089202,
     "user": {
      "displayName": "Rosie Nguyen",
      "photoUrl": "https://lh3.googleusercontent.com/a-/AOh14Gg8VPQvlV-dIeIfmn9DbfD6olRxnSRwLXXUWlaA=s64",
      "userId": "15013244958255868355"
     },
     "user_tz": 480
    },
    "id": "7XZR_k-RVsfG",
    "outputId": "562d97b3-b0da-43a1-abea-4d77bde3b99a"
   },
   "outputs": [
    {
     "name": "stdout",
     "output_type": "stream",
     "text": [
      "[(26, 1), (134, 1), (188, 2), (193, 1), (252, 1), (435, 1), (469, 1), (470, 1), (471, 1), (472, 1), (473, 1), (474, 1), (475, 1), (476, 1)]\n"
     ]
    }
   ],
   "source": [
    "document_term_matrix = [word_dict.doc2bow(tweet) for tweet in copy_negative['clean_tweet']]\n",
    "print(document_term_matrix[50])\n"
   ]
  },
  {
   "cell_type": "markdown",
   "id": "vP4u3lM7VsfG",
   "metadata": {
    "id": "vP4u3lM7VsfG"
   },
   "source": [
    "Preview Bag Of Words for our sample preprocessed document."
   ]
  },
  {
   "cell_type": "code",
   "execution_count": 103,
   "id": "vZNvIy2YVsfH",
   "metadata": {
    "colab": {
     "base_uri": "https://localhost:8080/"
    },
    "executionInfo": {
     "elapsed": 6,
     "status": "ok",
     "timestamp": 1637116089203,
     "user": {
      "displayName": "Rosie Nguyen",
      "photoUrl": "https://lh3.googleusercontent.com/a-/AOh14Gg8VPQvlV-dIeIfmn9DbfD6olRxnSRwLXXUWlaA=s64",
      "userId": "15013244958255868355"
     },
     "user_tz": 480
    },
    "id": "vZNvIy2YVsfH",
    "outputId": "f6ff7ccc-088e-409f-fa9b-5f9cc2e26416"
   },
   "outputs": [
    {
     "name": "stdout",
     "output_type": "stream",
     "text": [
      "Word 26 (\"le\") appears 1 time.\n",
      "Word 134 (\"day\") appears 1 time.\n",
      "Word 188 (\"time\") appears 2 time.\n",
      "Word 193 (\"stay\") appears 1 time.\n",
      "Word 252 (\"family\") appears 1 time.\n",
      "Word 435 (\"set\") appears 1 time.\n",
      "Word 469 (\"build\") appears 1 time.\n",
      "Word 470 (\"focused\") appears 1 time.\n",
      "Word 471 (\"friend\") appears 1 time.\n",
      "Word 472 (\"motivate\") appears 1 time.\n",
      "Word 473 (\"productive\") appears 1 time.\n",
      "Word 474 (\"reach\") appears 1 time.\n",
      "Word 475 (\"social\") appears 1 time.\n",
      "Word 476 (\"studying\") appears 1 time.\n"
     ]
    }
   ],
   "source": [
    "document_term_matrix_50 = document_term_matrix[50]\n",
    "for i in range(len(document_term_matrix_50)):\n",
    "    print(\"Word {} (\\\"{}\\\") appears {} time.\".format(document_term_matrix_50[i][0], \n",
    "                                               word_dict[document_term_matrix_50[i][0]], \n",
    "document_term_matrix_50[i][1]))"
   ]
  },
  {
   "cell_type": "markdown",
   "id": "q1EXE0bJVsfH",
   "metadata": {
    "id": "q1EXE0bJVsfH"
   },
   "source": [
    "## Running LDA Using Bag of Words"
   ]
  },
  {
   "cell_type": "code",
   "execution_count": 104,
   "id": "UKuSn7olVsfI",
   "metadata": {
    "colab": {
     "base_uri": "https://localhost:8080/"
    },
    "executionInfo": {
     "elapsed": 5812,
     "status": "ok",
     "timestamp": 1637116095010,
     "user": {
      "displayName": "Rosie Nguyen",
      "photoUrl": "https://lh3.googleusercontent.com/a-/AOh14Gg8VPQvlV-dIeIfmn9DbfD6olRxnSRwLXXUWlaA=s64",
      "userId": "15013244958255868355"
     },
     "user_tz": 480
    },
    "id": "UKuSn7olVsfI",
    "outputId": "28d18792-e0b5-434d-9b40-697e79fc70ba"
   },
   "outputs": [
    {
     "name": "stdout",
     "output_type": "stream",
     "text": [
      "Topic: 0 \n",
      "Words: 0.011*\"need\" + 0.010*\"day\" + 0.006*\"time\" + 0.006*\"class\" + 0.006*\"teacher\" + 0.006*\"kid\" + 0.006*\"learning\" + 0.006*\"get\" + 0.006*\"year\" + 0.005*\"everyone\"\n",
      "Topic: 1 \n",
      "Words: 0.014*\"time\" + 0.011*\"learning\" + 0.010*\"class\" + 0.007*\"work\" + 0.007*\"today\" + 0.006*\"think\" + 0.006*\"amp\" + 0.006*\"one\" + 0.006*\"like\" + 0.005*\"hard\"\n",
      "Topic: 2 \n",
      "Words: 0.015*\"time\" + 0.010*\"like\" + 0.010*\"learning\" + 0.009*\"teacher\" + 0.008*\"class\" + 0.007*\"amp\" + 0.007*\"teaching\" + 0.007*\"get\" + 0.005*\"child\" + 0.005*\"week\"\n",
      "Topic: 3 \n",
      "Words: 0.012*\"need\" + 0.011*\"amp\" + 0.009*\"know\" + 0.008*\"kid\" + 0.008*\"one\" + 0.008*\"learning\" + 0.007*\"get\" + 0.006*\"day\" + 0.006*\"want\" + 0.005*\"time\"\n",
      "Topic: 4 \n",
      "Words: 0.019*\"class\" + 0.013*\"due\" + 0.012*\"work\" + 0.010*\"learning\" + 0.009*\"course\" + 0.007*\"day\" + 0.006*\"kid\" + 0.006*\"assignment\" + 0.006*\"get\" + 0.006*\"teacher\"\n",
      "Topic: 5 \n",
      "Words: 0.016*\"amp\" + 0.012*\"learning\" + 0.010*\"time\" + 0.008*\"teacher\" + 0.008*\"like\" + 0.007*\"day\" + 0.006*\"rt\" + 0.006*\"class\" + 0.005*\"need\" + 0.005*\"would\"\n",
      "Topic: 6 \n",
      "Words: 0.013*\"learning\" + 0.011*\"class\" + 0.007*\"day\" + 0.007*\"teaching\" + 0.006*\"know\" + 0.006*\"amp\" + 0.006*\"get\" + 0.005*\"going\" + 0.005*\"today\" + 0.005*\"one\"\n",
      "Topic: 7 \n",
      "Words: 0.012*\"u\" + 0.011*\"amp\" + 0.009*\"class\" + 0.007*\"let\" + 0.007*\"service\" + 0.007*\"teacher\" + 0.007*\"learning\" + 0.006*\"academic\" + 0.006*\"due\" + 0.006*\"email\"\n",
      "Topic: 8 \n",
      "Words: 0.019*\"learning\" + 0.010*\"class\" + 0.009*\"amp\" + 0.009*\"teacher\" + 0.007*\"one\" + 0.006*\"teaching\" + 0.005*\"time\" + 0.005*\"course\" + 0.005*\"today\" + 0.005*\"kid\"\n",
      "Topic: 9 \n",
      "Words: 0.010*\"learning\" + 0.009*\"get\" + 0.008*\"teacher\" + 0.007*\"due\" + 0.007*\"essay\" + 0.007*\"kid\" + 0.007*\"u\" + 0.007*\"week\" + 0.006*\"help\" + 0.006*\"one\"\n"
     ]
    }
   ],
   "source": [
    "lda_model = gensim.models.LdaMulticore(document_term_matrix, num_topics=10, \n",
    "                                       id2word=word_dict, passes=2, workers=2)\n",
    "\n",
    "for idx, topic in lda_model.print_topics(-1):\n",
    "    print('Topic: {} \\nWords: {}'.format(idx, topic))\n"
   ]
  },
  {
   "cell_type": "code",
   "execution_count": 31,
   "id": "5fe236f1",
   "metadata": {},
   "outputs": [
    {
     "data": {
      "text/html": [
       "<div>\n",
       "<style scoped>\n",
       "    .dataframe tbody tr th:only-of-type {\n",
       "        vertical-align: middle;\n",
       "    }\n",
       "\n",
       "    .dataframe tbody tr th {\n",
       "        vertical-align: top;\n",
       "    }\n",
       "\n",
       "    .dataframe thead th {\n",
       "        text-align: right;\n",
       "    }\n",
       "</style>\n",
       "<table border=\"1\" class=\"dataframe\">\n",
       "  <thead>\n",
       "    <tr style=\"text-align: right;\">\n",
       "      <th></th>\n",
       "      <th>Unnamed: 0</th>\n",
       "      <th>ID</th>\n",
       "      <th>Date</th>\n",
       "      <th>Tweet</th>\n",
       "      <th>Time</th>\n",
       "      <th>clean_tweet</th>\n",
       "      <th>TextBlob_Polarity</th>\n",
       "      <th>TextBlob_Sentiment</th>\n",
       "    </tr>\n",
       "  </thead>\n",
       "  <tbody>\n",
       "    <tr>\n",
       "      <th>0</th>\n",
       "      <td>2</td>\n",
       "      <td>1454594698614562821</td>\n",
       "      <td>2021-10-30</td>\n",
       "      <td>All Green STARS on ! Every lesson, every unit!...</td>\n",
       "      <td>23:42:55+00:00</td>\n",
       "      <td>[green, star, every, lesson, every, unit, going]</td>\n",
       "      <td>-0.390625</td>\n",
       "      <td>neg</td>\n",
       "    </tr>\n",
       "    <tr>\n",
       "      <th>1</th>\n",
       "      <td>41</td>\n",
       "      <td>1454485143037546497</td>\n",
       "      <td>2021-10-30</td>\n",
       "      <td>each week and then pass over to the children T...</td>\n",
       "      <td>16:27:35+00:00</td>\n",
       "      <td>[week, pas, child, take, turn, talk, reading, ...</td>\n",
       "      <td>0.800000</td>\n",
       "      <td>pos</td>\n",
       "    </tr>\n",
       "    <tr>\n",
       "      <th>2</th>\n",
       "      <td>42</td>\n",
       "      <td>1454481924928389123</td>\n",
       "      <td>2021-10-30</td>\n",
       "      <td>Why did you consider a profession of teacher?</td>\n",
       "      <td>16:14:48+00:00</td>\n",
       "      <td>[consider, profession, teacher]</td>\n",
       "      <td>0.000000</td>\n",
       "      <td>neu</td>\n",
       "    </tr>\n",
       "    <tr>\n",
       "      <th>3</th>\n",
       "      <td>86</td>\n",
       "      <td>1454430596613099520</td>\n",
       "      <td>2021-10-30</td>\n",
       "      <td>Read from ALL sources Remember, the test will ...</td>\n",
       "      <td>12:50:50+00:00</td>\n",
       "      <td>[read, source, remember, test, text, various, ...</td>\n",
       "      <td>0.000000</td>\n",
       "      <td>neu</td>\n",
       "    </tr>\n",
       "    <tr>\n",
       "      <th>4</th>\n",
       "      <td>89</td>\n",
       "      <td>1454429071580930048</td>\n",
       "      <td>2021-10-30</td>\n",
       "      <td>Answer ALL questions There is no negative mark...</td>\n",
       "      <td>12:44:47+00:00</td>\n",
       "      <td>[answer, question, negative, marking, make, su...</td>\n",
       "      <td>0.012500</td>\n",
       "      <td>pos</td>\n",
       "    </tr>\n",
       "  </tbody>\n",
       "</table>\n",
       "</div>"
      ],
      "text/plain": [
       "   Unnamed: 0                   ID        Date  \\\n",
       "0           2  1454594698614562821  2021-10-30   \n",
       "1          41  1454485143037546497  2021-10-30   \n",
       "2          42  1454481924928389123  2021-10-30   \n",
       "3          86  1454430596613099520  2021-10-30   \n",
       "4          89  1454429071580930048  2021-10-30   \n",
       "\n",
       "                                               Tweet            Time  \\\n",
       "0  All Green STARS on ! Every lesson, every unit!...  23:42:55+00:00   \n",
       "1  each week and then pass over to the children T...  16:27:35+00:00   \n",
       "2      Why did you consider a profession of teacher?  16:14:48+00:00   \n",
       "3  Read from ALL sources Remember, the test will ...  12:50:50+00:00   \n",
       "4  Answer ALL questions There is no negative mark...  12:44:47+00:00   \n",
       "\n",
       "                                         clean_tweet  TextBlob_Polarity  \\\n",
       "0   [green, star, every, lesson, every, unit, going]          -0.390625   \n",
       "1  [week, pas, child, take, turn, talk, reading, ...           0.800000   \n",
       "2                    [consider, profession, teacher]           0.000000   \n",
       "3  [read, source, remember, test, text, various, ...           0.000000   \n",
       "4  [answer, question, negative, marking, make, su...           0.012500   \n",
       "\n",
       "  TextBlob_Sentiment  \n",
       "0                neg  \n",
       "1                pos  \n",
       "2                neu  \n",
       "3                neu  \n",
       "4                pos  "
      ]
     },
     "execution_count": 31,
     "metadata": {},
     "output_type": "execute_result"
    }
   ],
   "source": [
    "copy.head()"
   ]
  },
  {
   "cell_type": "code",
   "execution_count": 35,
   "id": "88c1adcb",
   "metadata": {},
   "outputs": [],
   "source": [
    "copy = copy.reset_index(drop=True)\n"
   ]
  },
  {
   "cell_type": "code",
   "execution_count": 48,
   "id": "587a886c",
   "metadata": {},
   "outputs": [
    {
     "data": {
      "text/html": [
       "<div>\n",
       "<style scoped>\n",
       "    .dataframe tbody tr th:only-of-type {\n",
       "        vertical-align: middle;\n",
       "    }\n",
       "\n",
       "    .dataframe tbody tr th {\n",
       "        vertical-align: top;\n",
       "    }\n",
       "\n",
       "    .dataframe thead th {\n",
       "        text-align: right;\n",
       "    }\n",
       "</style>\n",
       "<table border=\"1\" class=\"dataframe\">\n",
       "  <thead>\n",
       "    <tr style=\"text-align: right;\">\n",
       "      <th></th>\n",
       "      <th>Unnamed: 0</th>\n",
       "      <th>ID</th>\n",
       "      <th>Date</th>\n",
       "      <th>Tweet</th>\n",
       "      <th>Time</th>\n",
       "      <th>clean_tweet</th>\n",
       "      <th>TextBlob_Polarity</th>\n",
       "      <th>TextBlob_Sentiment</th>\n",
       "    </tr>\n",
       "  </thead>\n",
       "  <tbody>\n",
       "    <tr>\n",
       "      <th>0</th>\n",
       "      <td>2</td>\n",
       "      <td>1454594698614562821</td>\n",
       "      <td>2021-10-30</td>\n",
       "      <td>All Green STARS on ! Every lesson, every unit!...</td>\n",
       "      <td>23:42:55+00:00</td>\n",
       "      <td>[green, star, every, lesson, every, unit, going]</td>\n",
       "      <td>-0.390625</td>\n",
       "      <td>neg</td>\n",
       "    </tr>\n",
       "    <tr>\n",
       "      <th>1</th>\n",
       "      <td>41</td>\n",
       "      <td>1454485143037546497</td>\n",
       "      <td>2021-10-30</td>\n",
       "      <td>each week and then pass over to the children T...</td>\n",
       "      <td>16:27:35+00:00</td>\n",
       "      <td>[week, pas, child, take, turn, talk, reading, ...</td>\n",
       "      <td>0.800000</td>\n",
       "      <td>pos</td>\n",
       "    </tr>\n",
       "    <tr>\n",
       "      <th>2</th>\n",
       "      <td>42</td>\n",
       "      <td>1454481924928389123</td>\n",
       "      <td>2021-10-30</td>\n",
       "      <td>Why did you consider a profession of teacher?</td>\n",
       "      <td>16:14:48+00:00</td>\n",
       "      <td>[consider, profession, teacher]</td>\n",
       "      <td>0.000000</td>\n",
       "      <td>neu</td>\n",
       "    </tr>\n",
       "    <tr>\n",
       "      <th>3</th>\n",
       "      <td>86</td>\n",
       "      <td>1454430596613099520</td>\n",
       "      <td>2021-10-30</td>\n",
       "      <td>Read from ALL sources Remember, the test will ...</td>\n",
       "      <td>12:50:50+00:00</td>\n",
       "      <td>[read, source, remember, test, text, various, ...</td>\n",
       "      <td>0.000000</td>\n",
       "      <td>neu</td>\n",
       "    </tr>\n",
       "    <tr>\n",
       "      <th>4</th>\n",
       "      <td>89</td>\n",
       "      <td>1454429071580930048</td>\n",
       "      <td>2021-10-30</td>\n",
       "      <td>Answer ALL questions There is no negative mark...</td>\n",
       "      <td>12:44:47+00:00</td>\n",
       "      <td>[answer, question, negative, marking, make, su...</td>\n",
       "      <td>0.012500</td>\n",
       "      <td>pos</td>\n",
       "    </tr>\n",
       "  </tbody>\n",
       "</table>\n",
       "</div>"
      ],
      "text/plain": [
       "   Unnamed: 0                   ID        Date  \\\n",
       "0           2  1454594698614562821  2021-10-30   \n",
       "1          41  1454485143037546497  2021-10-30   \n",
       "2          42  1454481924928389123  2021-10-30   \n",
       "3          86  1454430596613099520  2021-10-30   \n",
       "4          89  1454429071580930048  2021-10-30   \n",
       "\n",
       "                                               Tweet            Time  \\\n",
       "0  All Green STARS on ! Every lesson, every unit!...  23:42:55+00:00   \n",
       "1  each week and then pass over to the children T...  16:27:35+00:00   \n",
       "2      Why did you consider a profession of teacher?  16:14:48+00:00   \n",
       "3  Read from ALL sources Remember, the test will ...  12:50:50+00:00   \n",
       "4  Answer ALL questions There is no negative mark...  12:44:47+00:00   \n",
       "\n",
       "                                         clean_tweet  TextBlob_Polarity  \\\n",
       "0   [green, star, every, lesson, every, unit, going]          -0.390625   \n",
       "1  [week, pas, child, take, turn, talk, reading, ...           0.800000   \n",
       "2                    [consider, profession, teacher]           0.000000   \n",
       "3  [read, source, remember, test, text, various, ...           0.000000   \n",
       "4  [answer, question, negative, marking, make, su...           0.012500   \n",
       "\n",
       "  TextBlob_Sentiment  \n",
       "0                neg  \n",
       "1                pos  \n",
       "2                neu  \n",
       "3                neu  \n",
       "4                pos  "
      ]
     },
     "execution_count": 48,
     "metadata": {},
     "output_type": "execute_result"
    }
   ],
   "source": [
    "copy.head()"
   ]
  },
  {
   "cell_type": "code",
   "execution_count": 47,
   "id": "Gk59sRIGVsfI",
   "metadata": {
    "executionInfo": {
     "elapsed": 22,
     "status": "ok",
     "timestamp": 1637116095012,
     "user": {
      "displayName": "Rosie Nguyen",
      "photoUrl": "https://lh3.googleusercontent.com/a-/AOh14Gg8VPQvlV-dIeIfmn9DbfD6olRxnSRwLXXUWlaA=s64",
      "userId": "15013244958255868355"
     },
     "user_tz": 480
    },
    "id": "Gk59sRIGVsfI",
    "scrolled": true
   },
   "outputs": [],
   "source": [
    "#Time series Analysis\n",
    "#Time series Analysis\n",
    "observation=[]\n",
    "percentage_of_pos_rev=[]\n",
    "m=0\n",
    "y=0\n",
    "p=0\n",
    "for i in range(len(copy)):\n",
    "    split_date=copy.Date[i].split('-')\n",
    "    year=split_date[0]\n",
    "    month=split_date[1]\n",
    "    day=split_date[2]\n",
    "    if m != month or y !=year:\n",
    "        if p!=0:\n",
    "            percentage_of_pos_rev.append(p/total)\n",
    "        p=0\n",
    "        m=month\n",
    "        y=year\n",
    "        observation.append(\"-\".join([m, y]))\n",
    "        if copy.TextBlob_Sentiment[i]==\"pos\":\n",
    "            p+=1\n",
    "        total=1   \n",
    "    \n",
    "    elif m == month and y ==year:   \n",
    "        total+=1    \n",
    "        if copy.TextBlob_Sentiment[i]==\"pos\":\n",
    "            p+=1   \n",
    "    if i== (len(copy)-1):\n",
    "        percentage_of_pos_rev.append(p/total)\n",
    "    \n",
    "    "
   ]
  },
  {
   "cell_type": "raw",
   "id": "10eade09",
   "metadata": {},
   "source": [
    "print((observation))\n",
    "print(percentage_of_pos_rev)"
   ]
  },
  {
   "cell_type": "code",
   "execution_count": null,
   "id": "ff0f477b",
   "metadata": {},
   "outputs": [],
   "source": [
    "observation.reverse()\n",
    "percentage_of_pos_rev.reverse()"
   ]
  },
  {
   "cell_type": "raw",
   "id": "a4df2c6d",
   "metadata": {},
   "source": [
    "print(observation)\n",
    "print(percentage_of_pos_rev)"
   ]
  },
  {
   "cell_type": "code",
   "execution_count": null,
   "id": "93ebfb19",
   "metadata": {},
   "outputs": [],
   "source": [
    "time_series=pd.dataframe({\"Date\":observation, \"Per_pos\":percentage_of_pos_rev})"
   ]
  }
 ],
 "metadata": {
  "colab": {
   "name": "TextMiningProject.ipynb",
   "provenance": []
  },
  "kernelspec": {
   "display_name": "Python 3",
   "language": "python",
   "name": "python3"
  },
  "language_info": {
   "codemirror_mode": {
    "name": "ipython",
    "version": 3
   },
   "file_extension": ".py",
   "mimetype": "text/x-python",
   "name": "python",
   "nbconvert_exporter": "python",
   "pygments_lexer": "ipython3",
   "version": "3.8.8"
  }
 },
 "nbformat": 4,
 "nbformat_minor": 5
}
